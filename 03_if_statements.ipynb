{
  "nbformat": 4,
  "nbformat_minor": 0,
  "metadata": {
    "colab": {
      "provenance": [],
      "authorship_tag": "ABX9TyPXiAhjTxhzSuvpRzsn9f5C",
      "include_colab_link": true
    },
    "kernelspec": {
      "name": "python3",
      "display_name": "Python 3"
    },
    "language_info": {
      "name": "python"
    }
  },
  "cells": [
    {
      "cell_type": "markdown",
      "metadata": {
        "id": "view-in-github",
        "colab_type": "text"
      },
      "source": [
        "<a href=\"https://colab.research.google.com/github/MARIUAM/projects4assimets_homework/blob/main/03_if_statements.ipynb\" target=\"_parent\"><img src=\"https://colab.research.google.com/assets/colab-badge.svg\" alt=\"Open In Colab\"/></a>"
      ]
    },
    {
      "cell_type": "code",
      "execution_count": null,
      "metadata": {
        "colab": {
          "base_uri": "https://localhost:8080/"
        },
        "id": "BByX9LwqNyMW",
        "outputId": "dc6ff43d-6ac0-46dd-ee7b-337e0801fc08"
      },
      "outputs": [
        {
          "output_type": "stream",
          "name": "stdout",
          "text": [
            "0 5 10 15 20 25 30 35 40 45 50 55 60 65 70 75 80 85 90 95 "
          ]
        }
      ],
      "source": [
        "#01_print_events\n",
        "\n",
        "\n",
        "\"\"\" Problem Statement\n",
        "Write a program that prints the first 20 even numbers. There are several correct approaches, but they all use a loop of some sort. Do no write twenty print statements\n",
        "\n",
        "The first even number is 0:\n",
        "\n",
        "0 2 4 6 8 10 12 14 16 18 20 22 24 26 28 30 32 34 36 38\n",
        "\n",
        "Starter Code\n",
        "def main():\n",
        "    print(\"Delete this line and write your code here! :)\")\n",
        "\n",
        "\n",
        "# This provided line is required at the end of\n",
        "# Python file to call the main() function.\n",
        "if __name__ == '__main__':\n",
        "    main()\"\"\"\n",
        "\n",
        "\n",
        "def main():\n",
        "    for i in range(20):  # Loop 20 times\n",
        "        print(i * 5, end=\" \")  # Print even number, with space instead of newline\n",
        "\n",
        "# This provided line is required at the end of\n",
        "# Python file to call the main() function.\n",
        "if __name__ == '__main__':\n",
        "    main()\n"
      ]
    },
    {
      "cell_type": "code",
      "source": [
        "# 02_international_voting_age\n",
        "\n",
        "\"\"\"Problem Statement\n",
        "Write a program which asks a user for their age and lets them know if they can or can't vote in the following three fictional countries.\n",
        "\n",
        "Around the world, different countries have different voting ages. In the fictional countries of Peturksbouipo, Stanlau, and Mayengua, the voting ages are very different:\n",
        "\n",
        "the voting age in Peturksbouipo is 16 (in real life, this is the voting age in, for example, Scotland, Ethiopia, and Austria)\n",
        "\n",
        "the voting age in Stanlau is 25 (in real life this is the voting age in the United Arab Emirates)\n",
        "\n",
        "the voting age in Mayengua is 48 (in real life, as far as we can tell, this isn't the voting age anywhere)\n",
        "\n",
        "Your code should prompt the for their age and print whether or not they can vote in Peturksbouipo, Stanlau, or Mayengua.\n",
        "\n",
        "Here's a sample run of the program (user input is in blue):\n",
        "\n",
        "How old are you? 20 You can vote in Peturksbouipo where the voting age is 16. You cannot vote in Stanlau where the voting age is 25. You cannot vote in Mayengua where the voting age is 48.\n",
        "\n",
        "Starter Code\n",
        "def main():\n",
        "    print(\"Delete this line and write your code here! :)\")\n",
        "\n",
        "\n",
        "# This provided line is required at the end of\n",
        "# Python file to call the main() function.\n",
        "if __name__ == '__main__':\n",
        "    main() \"\"\"\n",
        "\n",
        "def main():\n",
        "    age = int(input(\"How old are you? \"))  # Ask user for their age\n",
        "\n",
        "    # Peturksbouipo\n",
        "    if age >= 16:\n",
        "        print(\"You can vote in Peturksbouipo where the voting age is 16.\")\n",
        "    else:\n",
        "        print(\"You cannot vote in Peturksbouipo where the voting age is 16.\")\n",
        "\n",
        "    # Stanlau\n",
        "    if age >= 25:\n",
        "        print(\"You can vote in Stanlau where the voting age is 25.\")\n",
        "    else:\n",
        "        print(\"You cannot vote in Stanlau where the voting age is 25.\")\n",
        "\n",
        "    # Mayengua\n",
        "    if age >= 48:\n",
        "        print(\"You can vote in Mayengua where the voting age is 48.\")\n",
        "    else:\n",
        "        print(\"You cannot vote in Mayengua where the voting age is 48.\")\n",
        "\n",
        "\n",
        "# This provided line is required at the end of\n",
        "# Python file to call the main() function.\n",
        "if __name__ == '__main__':\n",
        "    main()\n"
      ],
      "metadata": {
        "colab": {
          "base_uri": "https://localhost:8080/"
        },
        "id": "1-qDYwmSPaGf",
        "outputId": "4e095327-b0da-49d4-93ed-fc007fd1a803"
      },
      "execution_count": null,
      "outputs": [
        {
          "output_type": "stream",
          "name": "stdout",
          "text": [
            "How old are you? 110\n",
            "You can vote in Peturksbouipo where the voting age is 16.\n",
            "You can vote in Stanlau where the voting age is 25.\n",
            "You can vote in Mayengua where the voting age is 48.\n"
          ]
        }
      ]
    },
    {
      "cell_type": "code",
      "source": [
        "# 03_leap_year\n",
        "\n",
        "\"\"\" Problem Statement\n",
        "Write a program that reads a year from the user and tells whether a given year is a leap year or not.\n",
        "\n",
        "A leap year (also known as an intercalary year or bissextile year) is a calendar year that contains an additional day (or, in the case of a lunisolar calendar, a month) added to keep the calendar year synchronized with the astronomical year or seasonal year. In the Gregorian calendar, each leap year has 366 days instead of 365, by extending February to 29 days rather than the common 28.\n",
        "\n",
        "In the Gregorian calendar, three criteria must be checked to identify leap years:\n",
        "\n",
        "The given year must be evenly divisible by 4;\n",
        "If the year can also be evenly divided by 100, it is NOT a leap year; unless:\n",
        "The year is also evenly divisible by 400. Then it is a leap year.\n",
        "Your code should use the above criteria to check for a leap year and then print either \"That's a leap year!\" or \"That's not a leap year.\"\n",
        "\n",
        "Starter Code\n",
        "def main():\n",
        "    print(\"Delete this line and write your code here! :)\")\n",
        "\n",
        "\n",
        "# This provided line is required at the end of\n",
        "# Python file to call the main() function.\n",
        "if __name__ == '__main__':\n",
        "    main()\"\"\"\n",
        "\n",
        "\n",
        "def main():\n",
        "    year = int(input(\"📅 Enter a year to check: \"))\n",
        "\n",
        "    if (year % 4 == 0):\n",
        "        if (year % 100 == 0):\n",
        "            if (year % 400 == 0):\n",
        "                print(\"✅ That's a leap year! 🎉 February will have 29 days! 🗓️\")\n",
        "            else:\n",
        "                print(\"❌ That's not a leap year. 😕 February has only 28 days.\")\n",
        "        else:\n",
        "            print(\"✅ That's a leap year! 🎉 February will have 29 days! 🗓️\")\n",
        "    else:\n",
        "        print(\"❌ That's not a leap year. 😕 February has only 28 days.\")\n",
        "\n",
        "\n",
        "# This provided line is required at the end of\n",
        "# Python file to call the main() function.\n",
        "if __name__ == '__main__':\n",
        "    main()\n",
        "\n"
      ],
      "metadata": {
        "colab": {
          "base_uri": "https://localhost:8080/"
        },
        "id": "hMKe7BoWQgbu",
        "outputId": "f8f82ede-7f88-4acb-cc02-1dc1f9d969e9"
      },
      "execution_count": null,
      "outputs": [
        {
          "output_type": "stream",
          "name": "stdout",
          "text": [
            "📅 Enter a year to check: 2024\n",
            "✅ That's a leap year! 🎉 February will have 29 days! 🗓️\n"
          ]
        }
      ]
    },
    {
      "cell_type": "code",
      "source": [
        "#04_tall_enough_to_ride\n",
        "\"\"\"Problem Statement\n",
        "Write a program which asks the user how tall they are and prints whether or not they're taller than a pre-specified minimum height.\n",
        "\n",
        "In amusement parks (ah, the good old pre-pandemic days...), rollercoasters frequently have minimum height requirements for safety reasons. Assume for now that the minimum height is 50 of whatever height unit you'd like\n",
        "\n",
        "Here's two sample runs (user input is in bold italics):\n",
        "\n",
        "How tall are you? 100\n",
        "\n",
        "You're tall enough to ride!\n",
        "\n",
        "How tall are you? 10\n",
        "\n",
        "You're not tall enough to ride, but maybe next year!\n",
        "\n",
        "(For an extra challenge, write code which will repeatedly ask a user how tall they are and tell them whether or not they're tall enough to ride, until the user doesn't enter a height at all, in which case the program stops. Curious about how to do this? See the function tall_enough_extension() in the solution code!)\n",
        "\n",
        "Starter Code\n",
        "def main():\n",
        "    print(\"Delete this line and write your code here! :)\")\n",
        "\n",
        "\n",
        "# This provided line is required at the end of\n",
        "# Python file to call the main() function.\n",
        "if __name__ == '__main__':\n",
        "    main() \"\"\"\n",
        "\n",
        "\n",
        "def tall_enough_once():\n",
        "    height = input(\"How tall are you? \")\n",
        "    if height:\n",
        "        height = int(height)\n",
        "        if height >= 50:\n",
        "            print(\"You're tall enough to ride!\")\n",
        "        else:\n",
        "            print(\"You're not tall enough to ride, but maybe next year!\")\n",
        "\n",
        "def tall_enough_extension():\n",
        "    while True:\n",
        "        height = input(\"How tall are you? \")\n",
        "        if height == \"\":\n",
        "            break\n",
        "        height = int(height)\n",
        "        if height >= 50:\n",
        "            print(\"You're tall enough to ride!\")\n",
        "        else:\n",
        "            print(\"You're not tall enough to ride, but maybe next year!\")\n",
        "\n",
        "def main():\n",
        "    # Option 1 (ek dafa chalane ke liye):\n",
        "    # tall_enough_once()\n",
        "\n",
        "    # Option 2 (repeat hone wala version):\n",
        "    tall_enough_extension()\n",
        "\n",
        "\n",
        "if __name__ == '__main__':\n",
        "    main()\n",
        "\n",
        "\n",
        "\n",
        "\n",
        "\n",
        "\n",
        "\n",
        "\n"
      ],
      "metadata": {
        "id": "4M-2eTi0UwYw",
        "colab": {
          "base_uri": "https://localhost:8080/",
          "height": 356
        },
        "outputId": "68b2818c-f845-4bd3-d49f-526dfb8a6946"
      },
      "execution_count": null,
      "outputs": [
        {
          "output_type": "error",
          "ename": "KeyboardInterrupt",
          "evalue": "Interrupted by user",
          "traceback": [
            "\u001b[0;31m---------------------------------------------------------------------------\u001b[0m",
            "\u001b[0;31mKeyboardInterrupt\u001b[0m                         Traceback (most recent call last)",
            "\u001b[0;32m<ipython-input-16-dfbb6458c9c3>\u001b[0m in \u001b[0;36m<cell line: 0>\u001b[0;34m()\u001b[0m\n\u001b[1;32m     57\u001b[0m \u001b[0;34m\u001b[0m\u001b[0m\n\u001b[1;32m     58\u001b[0m \u001b[0;32mif\u001b[0m \u001b[0m__name__\u001b[0m \u001b[0;34m==\u001b[0m \u001b[0;34m'__main__'\u001b[0m\u001b[0;34m:\u001b[0m\u001b[0;34m\u001b[0m\u001b[0;34m\u001b[0m\u001b[0m\n\u001b[0;32m---> 59\u001b[0;31m     \u001b[0mmain\u001b[0m\u001b[0;34m(\u001b[0m\u001b[0;34m)\u001b[0m\u001b[0;34m\u001b[0m\u001b[0;34m\u001b[0m\u001b[0m\n\u001b[0m\u001b[1;32m     60\u001b[0m \u001b[0;34m\u001b[0m\u001b[0m\n\u001b[1;32m     61\u001b[0m \u001b[0;34m\u001b[0m\u001b[0m\n",
            "\u001b[0;32m<ipython-input-16-dfbb6458c9c3>\u001b[0m in \u001b[0;36mmain\u001b[0;34m()\u001b[0m\n\u001b[1;32m     53\u001b[0m \u001b[0;34m\u001b[0m\u001b[0m\n\u001b[1;32m     54\u001b[0m     \u001b[0;31m# Option 2 (repeat hone wala version):\u001b[0m\u001b[0;34m\u001b[0m\u001b[0;34m\u001b[0m\u001b[0m\n\u001b[0;32m---> 55\u001b[0;31m     \u001b[0mtall_enough_extension\u001b[0m\u001b[0;34m(\u001b[0m\u001b[0;34m)\u001b[0m\u001b[0;34m\u001b[0m\u001b[0;34m\u001b[0m\u001b[0m\n\u001b[0m\u001b[1;32m     56\u001b[0m \u001b[0;34m\u001b[0m\u001b[0m\n\u001b[1;32m     57\u001b[0m \u001b[0;34m\u001b[0m\u001b[0m\n",
            "\u001b[0;32m<ipython-input-16-dfbb6458c9c3>\u001b[0m in \u001b[0;36mtall_enough_extension\u001b[0;34m()\u001b[0m\n\u001b[1;32m     39\u001b[0m \u001b[0;32mdef\u001b[0m \u001b[0mtall_enough_extension\u001b[0m\u001b[0;34m(\u001b[0m\u001b[0;34m)\u001b[0m\u001b[0;34m:\u001b[0m\u001b[0;34m\u001b[0m\u001b[0;34m\u001b[0m\u001b[0m\n\u001b[1;32m     40\u001b[0m     \u001b[0;32mwhile\u001b[0m \u001b[0;32mTrue\u001b[0m\u001b[0;34m:\u001b[0m\u001b[0;34m\u001b[0m\u001b[0;34m\u001b[0m\u001b[0m\n\u001b[0;32m---> 41\u001b[0;31m         \u001b[0mheight\u001b[0m \u001b[0;34m=\u001b[0m \u001b[0minput\u001b[0m\u001b[0;34m(\u001b[0m\u001b[0;34m\"How tall are you? \"\u001b[0m\u001b[0;34m)\u001b[0m\u001b[0;34m\u001b[0m\u001b[0;34m\u001b[0m\u001b[0m\n\u001b[0m\u001b[1;32m     42\u001b[0m         \u001b[0;32mif\u001b[0m \u001b[0mheight\u001b[0m \u001b[0;34m==\u001b[0m \u001b[0;34m\"\"\u001b[0m\u001b[0;34m:\u001b[0m\u001b[0;34m\u001b[0m\u001b[0;34m\u001b[0m\u001b[0m\n\u001b[1;32m     43\u001b[0m             \u001b[0;32mbreak\u001b[0m\u001b[0;34m\u001b[0m\u001b[0;34m\u001b[0m\u001b[0m\n",
            "\u001b[0;32m/usr/local/lib/python3.11/dist-packages/ipykernel/kernelbase.py\u001b[0m in \u001b[0;36mraw_input\u001b[0;34m(self, prompt)\u001b[0m\n\u001b[1;32m   1175\u001b[0m                 \u001b[0;34m\"raw_input was called, but this frontend does not support input requests.\"\u001b[0m\u001b[0;34m\u001b[0m\u001b[0;34m\u001b[0m\u001b[0m\n\u001b[1;32m   1176\u001b[0m             )\n\u001b[0;32m-> 1177\u001b[0;31m         return self._input_request(\n\u001b[0m\u001b[1;32m   1178\u001b[0m             \u001b[0mstr\u001b[0m\u001b[0;34m(\u001b[0m\u001b[0mprompt\u001b[0m\u001b[0;34m)\u001b[0m\u001b[0;34m,\u001b[0m\u001b[0;34m\u001b[0m\u001b[0;34m\u001b[0m\u001b[0m\n\u001b[1;32m   1179\u001b[0m             \u001b[0mself\u001b[0m\u001b[0;34m.\u001b[0m\u001b[0m_parent_ident\u001b[0m\u001b[0;34m[\u001b[0m\u001b[0;34m\"shell\"\u001b[0m\u001b[0;34m]\u001b[0m\u001b[0;34m,\u001b[0m\u001b[0;34m\u001b[0m\u001b[0;34m\u001b[0m\u001b[0m\n",
            "\u001b[0;32m/usr/local/lib/python3.11/dist-packages/ipykernel/kernelbase.py\u001b[0m in \u001b[0;36m_input_request\u001b[0;34m(self, prompt, ident, parent, password)\u001b[0m\n\u001b[1;32m   1217\u001b[0m             \u001b[0;32mexcept\u001b[0m \u001b[0mKeyboardInterrupt\u001b[0m\u001b[0;34m:\u001b[0m\u001b[0;34m\u001b[0m\u001b[0;34m\u001b[0m\u001b[0m\n\u001b[1;32m   1218\u001b[0m                 \u001b[0;31m# re-raise KeyboardInterrupt, to truncate traceback\u001b[0m\u001b[0;34m\u001b[0m\u001b[0;34m\u001b[0m\u001b[0m\n\u001b[0;32m-> 1219\u001b[0;31m                 \u001b[0;32mraise\u001b[0m \u001b[0mKeyboardInterrupt\u001b[0m\u001b[0;34m(\u001b[0m\u001b[0;34m\"Interrupted by user\"\u001b[0m\u001b[0;34m)\u001b[0m \u001b[0;32mfrom\u001b[0m \u001b[0;32mNone\u001b[0m\u001b[0;34m\u001b[0m\u001b[0;34m\u001b[0m\u001b[0m\n\u001b[0m\u001b[1;32m   1220\u001b[0m             \u001b[0;32mexcept\u001b[0m \u001b[0mException\u001b[0m\u001b[0;34m:\u001b[0m\u001b[0;34m\u001b[0m\u001b[0;34m\u001b[0m\u001b[0m\n\u001b[1;32m   1221\u001b[0m                 \u001b[0mself\u001b[0m\u001b[0;34m.\u001b[0m\u001b[0mlog\u001b[0m\u001b[0;34m.\u001b[0m\u001b[0mwarning\u001b[0m\u001b[0;34m(\u001b[0m\u001b[0;34m\"Invalid Message:\"\u001b[0m\u001b[0;34m,\u001b[0m \u001b[0mexc_info\u001b[0m\u001b[0;34m=\u001b[0m\u001b[0;32mTrue\u001b[0m\u001b[0;34m)\u001b[0m\u001b[0;34m\u001b[0m\u001b[0;34m\u001b[0m\u001b[0m\n",
            "\u001b[0;31mKeyboardInterrupt\u001b[0m: Interrupted by user"
          ]
        }
      ]
    },
    {
      "cell_type": "code",
      "source": [
        "# 05_random_numbers\n",
        "\"\"\" Problem Statement\n",
        "Print 10 random numbers in the range 1 to 100.\n",
        "\n",
        "Here is an example run:\n",
        "\n",
        "45 79 61 47 52 10 16 83 19 12\n",
        "\n",
        "Each time you run your program you should get different numbers\n",
        "\n",
        "81 76 70 1 27 63 96 100 32 92\n",
        "\n",
        "Recall that the python random library has a function randint which returns an integer in the range set by the parameters (inclusive). For example this call would produce a random integer between 1 and 6, which could include 1 and could include 6:\n",
        "\n",
        "value = random.randint(1, 6)\n",
        "\n",
        "Starter Code\n",
        "def main():\n",
        "    print(\"Delete this line and write your code here! :)\")\n",
        "\n",
        "\n",
        "# This provided line is required at the end of\n",
        "# Python file to call the main() function.\n",
        "if __name__ == '__main__':\n",
        "    main()\"\"\"\n",
        "\n",
        "import random\n",
        "\n",
        "def main():\n",
        "    # Print 10 random numbers between 1 and 100\n",
        "    for _ in range(10):\n",
        "        print(random.randint(1, 100), end=\" \")\n",
        "\n",
        "if __name__ == '__main__':\n",
        "    main()\n",
        "\n",
        "\n",
        "\n",
        "def main():\n",
        "    phonebook = {}\n",
        "\n",
        "    while True:\n",
        "        name = input(\"Enter name: \")\n",
        "        if name == \"\":\n",
        "            break\n",
        "\n",
        "        number = input(\"Enter phone number: \")\n",
        "        phonebook[name] = number\n",
        "\n",
        "    print(\"\\nPhonebook entries:\")\n",
        "    for name, number in phonebook.items():\n",
        "        print(f\"{name}: {number}\")\n",
        "\n",
        "if __name__ == '__main__':\n",
        "    main()\n",
        "\n"
      ],
      "metadata": {
        "colab": {
          "base_uri": "https://localhost:8080/"
        },
        "id": "0ukZPzJQX9fy",
        "outputId": "54b0a604-f7b1-41bc-e930-d35038383d70"
      },
      "execution_count": null,
      "outputs": [
        {
          "output_type": "stream",
          "name": "stdout",
          "text": [
            "42 63 24 88 18 85 53 92 74 46 Enter name: maryam\n",
            "Enter phone number: 0335253834899\n",
            "Enter name: alisha\n",
            "Enter phone number: 395657893\n",
            "Enter name: misbah\n",
            "Enter phone number: 73836659727502\n",
            "Enter name: ayat\n",
            "Enter phone number: 6426502582956945y\n",
            "Enter name: \n",
            "\n",
            "Phonebook entries:\n",
            "maryam: 0335253834899\n",
            "alisha: 395657893\n",
            "misbah: 73836659727502\n",
            "ayat: 6426502582956945y\n"
          ]
        }
      ]
    }
  ]
}