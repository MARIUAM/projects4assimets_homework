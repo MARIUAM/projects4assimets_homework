{
  "nbformat": 4,
  "nbformat_minor": 0,
  "metadata": {
    "colab": {
      "provenance": [],
      "authorship_tag": "ABX9TyOwkLJaLb2ImlClZo4mP561",
      "include_colab_link": true
    },
    "kernelspec": {
      "name": "python3",
      "display_name": "Python 3"
    },
    "language_info": {
      "name": "python"
    }
  },
  "cells": [
    {
      "cell_type": "markdown",
      "metadata": {
        "id": "view-in-github",
        "colab_type": "text"
      },
      "source": [
        "<a href=\"https://colab.research.google.com/github/MARIUAM/projects4assimets_homework/blob/main/06_functions.ipynb\" target=\"_parent\"><img src=\"https://colab.research.google.com/assets/colab-badge.svg\" alt=\"Open In Colab\"/></a>"
      ]
    },
    {
      "cell_type": "code",
      "execution_count": null,
      "metadata": {
        "colab": {
          "base_uri": "https://localhost:8080/"
        },
        "id": "Dev-Mtvz2aLO",
        "outputId": "16e79a52-1d6d-4ffe-dea9-babb4a38b2cf"
      },
      "outputs": [
        {
          "output_type": "stream",
          "name": "stdout",
          "text": [
            "Enter first number:  3\n",
            "Enter second number: 6\n",
            "The average is: 4.5\n"
          ]
        }
      ],
      "source": [
        "#00_averages\n",
        "\n",
        "\"\"\" Problem Statement\n",
        "Write a function that takes two numbers and finds the average between the two.\"\"\"4\n",
        "\n",
        "\n",
        "\n",
        "\n",
        "\n",
        "def find_average(num1, num2):\n",
        "    average = (num1 + num2) / 2\n",
        "    return average\n",
        "\n",
        "def main():\n",
        "    # User se do numbers lena\n",
        "    num1 = float(input(\"Enter first number: \"))\n",
        "    num2 = float(input(\"Enter second number: \"))\n",
        "\n",
        "    # Average calculate karna\n",
        "    result = find_average(num1, num2)\n",
        "\n",
        "    # Result print karna\n",
        "    print(\"The average is:\", result)\n",
        "\n",
        "# Yeh line required hai taake program chale\n",
        "if __name__ == '__main__':\n",
        "    main()\n",
        "\n",
        "\n",
        "\n"
      ]
    },
    {
      "cell_type": "code",
      "source": [
        "#01_chaotic_counting\n",
        "\n",
        "\"\"\" Problem Statement\n",
        "Fill out the chaotic_counting() function, which prints the numbers from 1 to 10, but with a catch. We've written a done() function which returns True with likelihood DONE_LIKELIHOOD -- at each number, before printing the number, you should call done() and check if it returns True or not. If done() returns True, we're done counting, and you should use a return statement to end the chaotic_counting() function execution and resume execution of main(), which will print \"I'm done.\". We've written main() for you -- check it out! Notice that we'll only print \"I'm done\" from main() once chaotic_counting() is done with its execution.\n",
        "\n",
        "Here's a sample run of this program:\n",
        "\n",
        "I'm going to count until 10 or until I feel like stopping, whichever comes first. 1 2 3 I'm done.\n",
        "\n",
        "Starter Code\"\"\"\n",
        "\n",
        "\n",
        "import random\n",
        "\n",
        "# Probability likelihood of stopping the count\n",
        "DONE_LIKELIHOOD = 0.3  # 30% chance to stop counting\n",
        "\n",
        "# done function to determine if we should stop\n",
        "def done():\n",
        "    return random.random() < DONE_LIKELIHOOD\n",
        "\n",
        "# chaotic_counting function that prints numbers from 1 to 10 or stops early\n",
        "def chaotic_counting():\n",
        "    print(\"I'm going to count until 10 or until I feel like stopping, whichever comes first.\")\n",
        "    for i in range(1, 11):\n",
        "        if done():  # Check if we should stop\n",
        "            return  # Stop counting and exit the function early\n",
        "        print(i)  # Print the number\n",
        "\n",
        "# main function that starts the process and prints the final message\n",
        "def main():\n",
        "    chaotic_counting()\n",
        "    print(\"I'm done.\")\n",
        "\n",
        "# This provided line is required at the end of the Python file to call the main() function\n",
        "if __name__ == '__main__':\n",
        "    main()\n"
      ],
      "metadata": {
        "colab": {
          "base_uri": "https://localhost:8080/"
        },
        "id": "gRrGJa8l4ChD",
        "outputId": "e1f9ef98-91f6-4342-91f2-b7a6482a69f2"
      },
      "execution_count": null,
      "outputs": [
        {
          "output_type": "stream",
          "name": "stdout",
          "text": [
            "I'm going to count until 10 or until I feel like stopping, whichever comes first.\n",
            "I'm done.\n"
          ]
        }
      ]
    },
    {
      "cell_type": "code",
      "source": [
        "#02_count_even\n",
        "\n",
        "\"\"\" Problem Statement\n",
        "Fill out the function count_even(lst) which\n",
        "\n",
        "first populates a list by prompting the user for integers until they press enter (please use the prompt \"Enter an integer or press enter to stop: \"),\n",
        "\n",
        "and then prints the number of even numbers in the list.\n",
        "\n",
        "If you'd prefer to focus on the second task only, scroll down for our implementation of the first task!\"\"\"\n",
        "\n",
        "\n",
        "def count_even(lst):\n",
        "    # Counting the even numbers in the list\n",
        "    even_count = 0\n",
        "    for num in lst:\n",
        "        if num % 2 == 0:\n",
        "            even_count += 1\n",
        "\n",
        "    print(f\"Number of even numbers: {even_count}\")\n",
        "\n",
        "\n",
        "def main():\n",
        "    # List to store the numbers\n",
        "    lst = []\n",
        "\n",
        "    # Prompting the user for input until they press enter without typing a number\n",
        "    while True:\n",
        "        user_input = input(\"Enter an integer or press enter to stop: \")\n",
        "        if user_input == \"\":  # If the user presses enter without typing, break the loop\n",
        "            break\n",
        "        try:\n",
        "            # Try to convert the input to an integer and add it to the list\n",
        "            number = int(user_input)\n",
        "            lst.append(number)\n",
        "        except ValueError:\n",
        "            # If input is not a valid integer, ignore and ask again\n",
        "            print(\"That's not a valid integer, please try again.\")\n",
        "\n",
        "    # Call count_even function to count and print even numbers\n",
        "    count_even(lst)\n",
        "\n",
        "# Call the main function to start the program\n",
        "if __name__ == \"__main__\":\n",
        "    main()\n",
        "\n",
        "\n",
        "\n",
        "\n",
        "\n"
      ],
      "metadata": {
        "colab": {
          "base_uri": "https://localhost:8080/"
        },
        "id": "U2GPJQt24ozl",
        "outputId": "8c20fd36-5f93-48d4-cacc-d503359cde2a"
      },
      "execution_count": null,
      "outputs": [
        {
          "output_type": "stream",
          "name": "stdout",
          "text": [
            "Enter an integer or press enter to stop: 4\n",
            "Enter an integer or press enter to stop: 5\n",
            "Enter an integer or press enter to stop: 6\n",
            "Enter an integer or press enter to stop: 7\n",
            "Enter an integer or press enter to stop: \n",
            "Number of even numbers: 2\n"
          ]
        }
      ]
    },
    {
      "cell_type": "code",
      "source": [
        "#04_double\n",
        "\n",
        "\"\"\"Problem Statement\n",
        "Fill out the double(num) function to return the result of multiplying num by 2. We've written a main() function for you which asks the user for a number, calls your code for double(num) , and prints the result.\n",
        "\n",
        "Here's a sample run of the program (user input in bold italics):\n",
        "\n",
        "Enter a number: 2 Double that is 4 \"\"\"\n",
        "\n",
        "def double(num):\n",
        "    # This function returns the number multiplied by 2\n",
        "    return num * 2\n",
        "\n",
        "def main():\n",
        "    # Ask the user to input a number\n",
        "    user_input = int(input(\"Enter a number: \"))\n",
        "\n",
        "    # Call the double function and store the result\n",
        "    result = double(user_input)\n",
        "\n",
        "    # Print the result\n",
        "    print(f\"Double that is {result}\")\n",
        "\n",
        "if __name__ == '__main__':\n",
        "    main()\n",
        "\n"
      ],
      "metadata": {
        "colab": {
          "base_uri": "https://localhost:8080/"
        },
        "id": "1TDH5uei9AQu",
        "outputId": "b6d504f5-ac49-4268-b085-130d2bc38777"
      },
      "execution_count": null,
      "outputs": [
        {
          "output_type": "stream",
          "name": "stdout",
          "text": [
            "Enter a number: 0\n",
            "Double that is 0\n"
          ]
        }
      ]
    },
    {
      "cell_type": "code",
      "source": [
        "#05_get_name\n",
        "\"\"\"Fill out the get_name() function to return your name as a string! We've written a main() function for you which calls your function to retrieve your name and then prints it in a greeting.\n",
        "\n",
        "Here's a sample run of the program where the name we've decided to return is Sophia (the autograder expects the returned name to be Sophia):\n",
        "\n",
        "Howdy Sophia ! 🤠 \"\"\"\n",
        "\n",
        "def get_name():\n",
        "    # Just return the name \"Sophia\" as a string\n",
        "    return \"Sophia\"\n",
        "\n",
        "def main():\n",
        "    name = get_name()\n",
        "    print(\"Howdy\", name)\n",
        "\n",
        "# This line runs the main function\n",
        "if __name__ == '__main__':\n",
        "    main()\n",
        "\n",
        "\n",
        "\n"
      ],
      "metadata": {
        "id": "U0KpjTCU9tsl",
        "colab": {
          "base_uri": "https://localhost:8080/"
        },
        "outputId": "6cd2f3d7-76ed-487f-b420-3478c9b6094b"
      },
      "execution_count": null,
      "outputs": [
        {
          "output_type": "stream",
          "name": "stdout",
          "text": [
            "Howdy Sophia\n"
          ]
        }
      ]
    },
    {
      "cell_type": "code",
      "source": [
        "#06_is_odd\n",
        "\n",
        "\n",
        "\"\"\" Problem Statement\n",
        "10 even 11 odd 12 even 13 odd 14 even 15 odd 16 even 17 odd 18 even 19 odd\n",
        "\n",
        "Starter Code\n",
        "def main():\n",
        "    print(\"Delete this line and write your code here! :)\")\n",
        "\n",
        "\n",
        "# This provided line is required at the end of\n",
        "# Python file to call the main() function.\n",
        "if __name__ == '__main__':\n",
        "    main()\"\"\"\n",
        "\n",
        "\n",
        "\n",
        "def main():\n",
        "    for i in range(10, 20):  # 10 se 19 tak numbers\n",
        "        if i % 2 == 0:       # agar even hai\n",
        "            print(i, \"even\", end=\" \")\n",
        "        else:                # agar odd hai\n",
        "            print(i, \"odd\", end=\" \")\n",
        "\n",
        "if __name__ == '__main__':\n",
        "    main()\n"
      ],
      "metadata": {
        "colab": {
          "base_uri": "https://localhost:8080/"
        },
        "id": "4zMUcVDepPDF",
        "outputId": "02161644-68ec-4804-aa2c-0da5c63b52a6"
      },
      "execution_count": null,
      "outputs": [
        {
          "output_type": "stream",
          "name": "stdout",
          "text": [
            "10 even 11 odd 12 even 13 odd 14 even 15 odd 16 even 17 odd 18 even 19 odd "
          ]
        }
      ]
    },
    {
      "cell_type": "code",
      "source": [
        "#07_print_divisor\n",
        "\n",
        "\n",
        "\"\"\"Problem Statement\n",
        "Write the helper function print_divisors(num), which takes in a number and prints all of its divisors (all the numbers from 1 to num inclusive that num can be cleanly divided by (there is no remainder to the division). Don't forget to call your function in main()!\n",
        "\n",
        "Here's a sample run (user input is in blue):\n",
        "\n",
        "Enter a number: 12 Here are the divisors of 12 1 2 3 4 6 12 \"\"\"\n",
        "\n",
        "\n",
        "def print_divisors(num):\n",
        "    print(f\"Here are the divisors of {num}\")\n",
        "    for i in range(1, num + 1):\n",
        "        if num % i == 0:  # agar num divide ho jaye i se\n",
        "            print(i, end=\" \")\n",
        "\n",
        "def main():\n",
        "    number = int(input(\"Enter a number: \"))\n",
        "    print_divisors(number)\n",
        "\n",
        "if __name__ == '__main__':\n",
        "    main()\n"
      ],
      "metadata": {
        "colab": {
          "base_uri": "https://localhost:8080/"
        },
        "id": "yQr5iNkH2Q3T",
        "outputId": "9d481228-5473-4388-e290-c8e043ad2b7b"
      },
      "execution_count": null,
      "outputs": [
        {
          "output_type": "stream",
          "name": "stdout",
          "text": [
            "Enter a number: 4\n",
            "Here are the divisors of 4\n",
            "1 2 4 "
          ]
        }
      ]
    },
    {
      "cell_type": "code",
      "source": [
        "#08_print_multiple\n",
        "\n",
        "\n",
        "\"\"\"Problem Statement\n",
        "Fill out print_multiple(message, repeats), which takes as parameters a string message to print, and an integer repeats number of times to print message. We've written the main() function for you, which prompts the user for a message and a number of repeats.\n",
        "\n",
        "Here's a sample run of the program (user input is in blue):\n",
        "\n",
        "Please type a message: Hello! Enter a number of times to repeat your message: 6 Hello! Hello! Hello! Hello! Hello! Hello! \"\"\"\n",
        "\n",
        "\n",
        "def print_multiple(message, repeats):\n",
        "    for _ in range(repeats):\n",
        "        print(message)\n",
        "\n",
        "def main():\n",
        "    message = input(\"Please type a message: \")\n",
        "    repeats = int(input(\"Enter a number of times to repeat your message: \"))\n",
        "    print_multiple(message, repeats)\n",
        "\n",
        "if __name__ == '__main__':\n",
        "    main()\n"
      ],
      "metadata": {
        "colab": {
          "base_uri": "https://localhost:8080/"
        },
        "id": "VXMqdUVd2rXi",
        "outputId": "6951d48e-b041-4e0b-b6e2-f8f1d36e88cc"
      },
      "execution_count": null,
      "outputs": [
        {
          "output_type": "stream",
          "name": "stdout",
          "text": [
            "Enter a number: 3\n",
            "Here are the divisors of 3\n",
            "1 3 "
          ]
        }
      ]
    },
    {
      "cell_type": "code",
      "source": [
        "# 09_sentence_generator\n",
        "\n",
        "\n",
        "\"\"\"Problem Statement\n",
        "Implement the helper function make_sentence(word, part_of_speech) which will take a string word and an integer part_of_speech as parameters and, depending on the part of speech, place the word into one of three sentence templates (or one from your imagination!):\n",
        "\n",
        "If part_of_speech is 0, we will assume the word is a noun and use the template: \"I am excited to add this ____ to my vast collection of them!\"\n",
        "\n",
        "If part_of_speech is 1, we will assume the word is a verb use the template: \"It's so nice outside today it makes me want to ____!\"\n",
        "\n",
        "If part_of_speech is 2, we will assume the word is an adjective and use the template: \"Looking out my window, the sky is big and ____!\" make_sentence(word, part_of_speech) should not return anything, just print the correct sentence with the word filled in the blank.\n",
        "\n",
        "Here's a sample run of the program (user input is in blue):\n",
        "\n",
        "Please type a noun, verb, or adjective: groovy Is this a noun, verb, or adjective? Type 0 for noun, 1 for verb, 2 for adjective: 2 Looking out my window, the sky is big and groovy! \"\"\"\n",
        "\n",
        "\n",
        "def make_sentence(word, part_of_speech):\n",
        "    if part_of_speech == 0:\n",
        "        print(f\"I am excited to add this {word} to my vast collection of them!\")\n",
        "    elif part_of_speech == 1:\n",
        "        print(f\"It's so nice outside today it makes me want to {word}!\")\n",
        "    elif part_of_speech == 2:\n",
        "        print(f\"Looking out my window, the sky is big and {word}!\")\n",
        "\n",
        "def main():\n",
        "    word = input(\"Please type a noun, verb, or adjective: \")\n",
        "    part = int(input(\"Is this a noun, verb, or adjective? Type 0 for noun, 1 for verb, 2 for adjective: \"))\n",
        "    make_sentence(word, part)\n",
        "\n",
        "if __name__ == '__main__':\n",
        "    main()\n",
        "\n"
      ],
      "metadata": {
        "colab": {
          "base_uri": "https://localhost:8080/"
        },
        "id": "Vn98eUcJ3C_i",
        "outputId": "799cb0ce-fedb-4744-d5e4-f34c9e48c83f"
      },
      "execution_count": null,
      "outputs": [
        {
          "name": "stdout",
          "output_type": "stream",
          "text": [
            "Please type a noun, verb, or adjective: 4\n",
            "Is this a noun, verb, or adjective? Type 0 for noun, 1 for verb, 2 for adjective: 7\n"
          ]
        }
      ]
    },
    {
      "cell_type": "code",
      "source": [
        "#10_print_ones_digit\n",
        "\n",
        "\"\"\"Write a function called print_ones_digit , which takes as a parameter an integer num and prints its ones digit. The modulo (remainder) operator, %, should be helpful to you here. Call your function from main()!\n",
        "\n",
        "Here's a sample run (user input is in blue):\n",
        "\n",
        "Enter a number: 42 The ones digit is 2 \"\"\"\n",
        "\n",
        "\n",
        "def print_ones_digit(num):\n",
        "    ones_digit = num % 10\n",
        "    print(\"The ones digit is\", ones_digit)\n",
        "\n",
        "def main():\n",
        "    number = int(input(\"Enter a number: \"))\n",
        "    print_ones_digit(number)\n",
        "\n",
        "if __name__ == '__main__':\n",
        "    main()\n"
      ],
      "metadata": {
        "colab": {
          "base_uri": "https://localhost:8080/"
        },
        "id": "_jxaYDEv3l9h",
        "outputId": "9ab52e7d-e550-4c46-8fff-5e6883f2539e"
      },
      "execution_count": null,
      "outputs": [
        {
          "output_type": "stream",
          "name": "stdout",
          "text": [
            "Enter a number: 5\n",
            "The ones digit is 5\n"
          ]
        }
      ]
    }
  ]
}