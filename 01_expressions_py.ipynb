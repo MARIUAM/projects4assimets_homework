{
  "nbformat": 4,
  "nbformat_minor": 0,
  "metadata": {
    "colab": {
      "provenance": [],
      "authorship_tag": "ABX9TyOWxu+6K2jmpfpLVuXvgy6G",
      "include_colab_link": true
    },
    "kernelspec": {
      "name": "python3",
      "display_name": "Python 3"
    },
    "language_info": {
      "name": "python"
    }
  },
  "cells": [
    {
      "cell_type": "markdown",
      "metadata": {
        "id": "view-in-github",
        "colab_type": "text"
      },
      "source": [
        "<a href=\"https://colab.research.google.com/github/MARIUAM/projects4assimets_homework/blob/main/01_expressions_py.ipynb\" target=\"_parent\"><img src=\"https://colab.research.google.com/assets/colab-badge.svg\" alt=\"Open In Colab\"/></a>"
      ]
    },
    {
      "cell_type": "code",
      "execution_count": null,
      "metadata": {
        "id": "AIjoo_KHzVoI",
        "colab": {
          "base_uri": "https://localhost:8080/"
        },
        "outputId": "dd6b06ae-da07-48bf-b9b7-2b25372a757a"
      },
      "outputs": [
        {
          "output_type": "stream",
          "name": "stdout",
          "text": [
            "die1 in main() starts as: 10\n",
            "Total of two dice: 5\n",
            "Total of two dice: 7\n",
            "Total of two dice: 7\n",
            "die1 in main() is: 10\n"
          ]
        }
      ],
      "source": [
        "# 01_dicesimulator\n",
        "\n",
        "import random\n",
        "\n",
        "NUM_SIDES = 6  # dice ke 6 sides hote hain\n",
        "\n",
        "def roll_dice():\n",
        "    die1 = random.randint(1, NUM_SIDES)\n",
        "    die2 = random.randint(1, NUM_SIDES)\n",
        "    total = die1 + die2\n",
        "    print(\"Total of two dice:\", total)\n",
        "\n",
        "def main():\n",
        "    die1 = 10  # ye local variable main function ka hai\n",
        "    print(\"die1 in main() starts as:\", die1)\n",
        "\n",
        "    roll_dice()\n",
        "    roll_dice()\n",
        "    roll_dice()\n",
        "\n",
        "    print(\"die1 in main() is:\", die1)\n",
        "\n",
        "if __name__ == '__main__':\n",
        "    main()\n",
        "\n"
      ]
    },
    {
      "cell_type": "code",
      "source": [
        "# /02_e=mc2.md\n",
        "\n",
        "\n",
        "\"\"\" Problem Statement\n",
        "Write a program that continually reads in mass from the user and then outputs the equivalent energy using Einstein's mass-energy equivalence formula (E stands for energy, m stands for mass, and C is the speed of light:\n",
        "\n",
        "E = m * c**2\n",
        "\n",
        "Almost 100 years ago, Albert Einstein famously discovered that mass and energy are interchangeable and are related by the above equation. You should ask the user for mass (m) in kilograms and use a constant value for the speed of light -- C = 299792458 m/s.\n",
        "\n",
        "Here's a sample run of the program (user input is in bold italics):\n",
        "\n",
        "Enter kilos of mass: 100\n",
        "\n",
        "e = m * C^2...\n",
        "\n",
        "m = 100.0 kg\n",
        "\n",
        "C = 299792458 m/s\n",
        "\n",
        "8.987551787368176e+18 joules of energy!\"\"\"\n",
        "\n",
        "\n",
        "\n",
        "\n",
        "def main():\n",
        "    C = 299792458  # speed of light constant\n",
        "\n",
        "    mass = float(input(\"Enter kilos of mass: \"))\n",
        "\n",
        "    print(\"\\ne = m * C^2...\")\n",
        "    print(\"m =\", mass, \"kg\")\n",
        "    print(\"C =\", C, \"m/s\")\n",
        "\n",
        "    energy = mass * C**2\n",
        "\n",
        "    print(energy, \"joules of energy!\")\n",
        "\n",
        "if __name__ == '__main__':\n",
        "    main()\n",
        "\n",
        "\n",
        "\n",
        "\n",
        "\n",
        "\n"
      ],
      "metadata": {
        "id": "EKnfdwQh-6L5",
        "colab": {
          "base_uri": "https://localhost:8080/"
        },
        "outputId": "0122982e-d545-4623-b61f-f53995c43f6b"
      },
      "execution_count": null,
      "outputs": [
        {
          "output_type": "stream",
          "name": "stdout",
          "text": [
            "Enter kilos of mass: 100\n",
            "\n",
            "e = m * C^2...\n",
            "m = 100.0 kg\n",
            "C = 299792458 m/s\n",
            "8.987551787368176e+18 joules of energy!\n"
          ]
        }
      ]
    },
    {
      "cell_type": "code",
      "source": [
        "\n",
        "# 03_feet_to_inches\n",
        "\n",
        "\n",
        "\"\"\"Problem Statement\n",
        "Converts feet to inches. Feet is an American unit of measurement. There are 12 inches per foot. Foot is the singular, and feet is the plural. \"\"\"\n",
        "\n",
        "\n",
        "def main():\n",
        "    feet = float(input(\"Enter length in feet: \"))\n",
        "    inches = feet * 12\n",
        "    print(feet, \"feet is equal to\", inches, \"inches.\")\n",
        "\n",
        "if __name__ == '__main__':\n",
        "    main()\n",
        "\n"
      ],
      "metadata": {
        "colab": {
          "base_uri": "https://localhost:8080/"
        },
        "id": "3IPM71-jo1q-",
        "outputId": "c55f11c2-cae3-44eb-b44c-fcb4435e02e0"
      },
      "execution_count": null,
      "outputs": [
        {
          "output_type": "stream",
          "name": "stdout",
          "text": [
            "Enter length in feet: 12\n",
            "12.0 feet is equal to 144.0 inches.\n"
          ]
        }
      ]
    },
    {
      "cell_type": "code",
      "source": [
        "# 04_pythagorean_theorem\n",
        "\n",
        "import math  # Ye library math functions ke liye chahiye hoti hai\n",
        "\n",
        "def main():\n",
        "    ab = float(input(\"Enter the length of AB: \"))\n",
        "    ac = float(input(\"Enter the length of AC: \"))\n",
        "\n",
        "    bc = math.sqrt(ab ** 2 + ac ** 2)  # Pythagorean formula applied here\n",
        "\n",
        "    print(\"The length of BC (the hypotenuse) is:\", bc)\n",
        "\n",
        "if __name__ == '__main__':\n",
        "    main()\n"
      ],
      "metadata": {
        "colab": {
          "base_uri": "https://localhost:8080/"
        },
        "id": "eEQUoSeXpwxe",
        "outputId": "ef9e9f87-fa4b-4ca0-f485-701b0e210867"
      },
      "execution_count": null,
      "outputs": [
        {
          "output_type": "stream",
          "name": "stdout",
          "text": [
            "Enter the length of AB: 2\n",
            "Enter the length of AC: 2\n",
            "The length of BC (the hypotenuse) is: 2.8284271247461903\n"
          ]
        }
      ]
    },
    {
      "cell_type": "code",
      "source": [
        "# 05_remainder_division\n",
        "\n",
        "'''    Problem Statement\n",
        "Ask the user for two numbers, one at a time, and then print the result of dividing the first number by the second and also the remainder of the division.\n",
        "\n",
        "Here's a sample run of the program (user input is in bold italics):\n",
        "\n",
        "Please enter an integer to be divided: 5\n",
        "\n",
        "Please enter an integer to divide by: 3\n",
        "\n",
        "The result of this division is 1 with a remainder of 2\n",
        "\n",
        "Starter Code\n",
        "def main():\n",
        "    print(\"Delete this line and write your code here! :)\")\n",
        "\n",
        "\n",
        "# This provided line is required at the end of\n",
        "# Python file to call the main() function.\n",
        "if __name__ == '__main__':\n",
        "    main()   '''\n",
        "\n",
        "def main():\n",
        "    # User se pehla number lena (jo divide hoga)\n",
        "    num1 = int(input(\"Please enter an integer to be divided: \"))\n",
        "\n",
        "    # User se dusra number lena (jo divide karega)\n",
        "    num2 = int(input(\"Please enter an integer to divide by: \"))\n",
        "\n",
        "    # Division ka result aur remainder nikalna\n",
        "    quotient = num1 // num2  # integer division\n",
        "    remainder = num1 % num2  # remainder\n",
        "\n",
        "    # Result print karna\n",
        "    print(f\"The result of this division is {quotient} with a remainder of {remainder}\")\n",
        "\n",
        "# Python ka main function call karna\n",
        "if __name__ == '__main__':\n",
        "    main()\n"
      ],
      "metadata": {
        "colab": {
          "base_uri": "https://localhost:8080/"
        },
        "id": "hk2iNXeZr6K-",
        "outputId": "ba7aac1d-1507-4096-ecb0-eb3110f778c0"
      },
      "execution_count": null,
      "outputs": [
        {
          "output_type": "stream",
          "name": "stdout",
          "text": [
            "Please enter an integer to be divided: 11\n",
            "Please enter an integer to divide by: 11\n",
            "The result of this division is 1 with a remainder of 0\n"
          ]
        }
      ]
    },
    {
      "cell_type": "code",
      "source": [
        "# 06_rolldice\n",
        "\n",
        "\"\"\"Problem Statement\n",
        "Simulate rolling two dice, and prints results of each roll as well as the total.\n",
        "\n",
        "Starter Code\n",
        "def main():\n",
        "    print(\"Delete this line and write your code here! :)\")\n",
        "\n",
        "\n",
        "# This provided line is required at the end of\n",
        "# Python file to call the main() function.\n",
        "if __name__ == '__main__':\n",
        "    main() \"\"\"\n",
        "\n",
        "\n",
        "import random\n",
        "\n",
        "def main():\n",
        "    # Dice 1 ka random number generate karo (1 se 6 ke darmiyan)\n",
        "    dice1 = random.randint(1, 6)\n",
        "    # Dice 2 ka random number generate karo\n",
        "    dice2 = random.randint(1, 6)\n",
        "\n",
        "    # Print har dice ka result\n",
        "    print(\"Dice 1 rolled:\", dice1)\n",
        "    print(\"Dice 2 rolled:\", dice2)\n",
        "\n",
        "    # Total calculate karo\n",
        "    total = dice1 + dice2\n",
        "    print(\"Total of both dice:\", total)\n",
        "\n",
        "# Main function call karne ke liye required line\n",
        "if __name__ == '__main__':\n",
        "    main()\n"
      ],
      "metadata": {
        "id": "M_uVQltstGTG",
        "colab": {
          "base_uri": "https://localhost:8080/"
        },
        "outputId": "97942e10-fea1-4db5-9f4e-ae26d9858a71"
      },
      "execution_count": null,
      "outputs": [
        {
          "output_type": "stream",
          "name": "stdout",
          "text": [
            "Dice 1 rolled: 6\n",
            "Dice 2 rolled: 3\n",
            "Total of both dice: 9\n"
          ]
        }
      ]
    },
    {
      "cell_type": "code",
      "source": [
        "# 06_seconds_in_year\n",
        "\n",
        "\"\"\"Problem Statement\n",
        "Simulate rolling two dice, and prints results of each roll as well as the total.\n",
        "\n",
        "Starter Code\n",
        "def main():\n",
        "    print(\"Delete this line and write your code here! :)\")\n",
        "\n",
        "\n",
        "# This provided line is required at the end of\n",
        "# Python file to call the main() function.\n",
        "if __name__ == '__main__':\n",
        "    main()\n",
        "\n",
        "\n",
        " \"\"\"\n",
        "\n",
        "\n",
        "import random  # random number generate karne ke liye\n",
        "\n",
        "def main():\n",
        "    # Pehla dice roll\n",
        "    die1 = random.randint(1, 6)\n",
        "    print(\"First die rolled:\", die1)\n",
        "\n",
        "    # Dusra dice roll\n",
        "    die2 = random.randint(1, 6)\n",
        "    print(\"Second die rolled:\", die2)\n",
        "\n",
        "    # Total calculate karna\n",
        "    total = die1 + die2\n",
        "    print(\"Total of both dice:\", total)\n",
        "\n",
        "# Python ka main function call karna\n",
        "if __name__ == '__main__':\n",
        "    main()\n"
      ],
      "metadata": {
        "id": "0JK14Ovi0iun",
        "colab": {
          "base_uri": "https://localhost:8080/"
        },
        "outputId": "8f8dc4eb-6227-4d81-c1d5-baa1077ce82f"
      },
      "execution_count": null,
      "outputs": [
        {
          "output_type": "stream",
          "name": "stdout",
          "text": [
            "First die rolled: 3\n",
            "Second die rolled: 5\n",
            "Total of both dice: 8\n"
          ]
        }
      ]
    },
    {
      "cell_type": "code",
      "source": [
        "# 06_seconds_in_year\n",
        "\n",
        "\n",
        "\"\"\" Problem Statement\n",
        "Use Python to calculate the number of seconds in a year, and tell the user what the result is in a nice print statement that looks like this (of course the value 5 should be the calculated number instead):\n",
        "\n",
        "There are 5 seconds in a year!\n",
        "\n",
        "You should use constants for this exercise -- there are 365 days in a year, 24 hours in a day, 60 minutes in an hour, and 60 seconds per minute.\n",
        "\n",
        "Starter Code\n",
        "def main():\n",
        "    print(\"Delete this line and write your code here! :)\")\n",
        "\n",
        "\n",
        "# This provided line is required at the end of\n",
        "# Python file to call the main() function.\n",
        "if __name__ == '__main__':\n",
        "    main() \"\"\"\n",
        "\n",
        "def main():\n",
        "    # Constants\n",
        "    DAYS_IN_YEAR = 365\n",
        "    HOURS_IN_DAY = 24\n",
        "    MINUTES_IN_HOUR = 60\n",
        "    SECONDS_IN_MINUTE = 60\n",
        "\n",
        "    # Calculation\n",
        "    seconds_in_year = DAYS_IN_YEAR * HOURS_IN_DAY * MINUTES_IN_HOUR * SECONDS_IN_MINUTE\n",
        "\n",
        "    # Output\n",
        "    print(\"There are\", seconds_in_year, \"seconds in a year!\")\n",
        "\n",
        "if __name__ == '__main__':\n",
        "    main()\n"
      ],
      "metadata": {
        "colab": {
          "base_uri": "https://localhost:8080/"
        },
        "id": "qEtT6aLsrY9R",
        "outputId": "6a238870-75de-4f93-baac-d101d1a76ed3"
      },
      "execution_count": null,
      "outputs": [
        {
          "output_type": "stream",
          "name": "stdout",
          "text": [
            "There are 31536000 seconds in a year!\n"
          ]
        }
      ]
    },
    {
      "cell_type": "code",
      "source": [
        "# 07_tiny_mad_lib\n",
        "\"\"\"Problem Statement\n",
        "Write a program which prompts the user for an adjective, then a noun, then a verb, and then prints a fun sentence with those words!\n",
        "\n",
        "Mad Libs is a word game where players are prompted for one word at a time, and the words are eventually filled into the blanks of a word template to make an entertaining story! We've provided you with the beginning of a sentence (the SENTENCE_START constant) which will end in a user-inputted adjective, noun, and then verb.\n",
        "\n",
        "Here's a sample run (user input is in bold italics):\n",
        "\n",
        "Please type an adjective and press enter. tiny\n",
        "\n",
        "Please type a noun and press enter. plant\n",
        "\n",
        "Please type a verb and press enter. fly\n",
        "\n",
        "Code in Place is fun. I learned to program and used Python to make my tiny plant fly!\"\"\"\n",
        "\n",
        "\n",
        "\n",
        "\n",
        "\n",
        "def main():\n",
        "    # Sentence ka shuru ka hissa\n",
        "    SENTENCE_START = \"Code in Place is fun. I learned to program and used Python to make my\"\n",
        "\n",
        "    # User se inputs lena\n",
        "    adjective = input(\"Please type an adjective and press enter: \")\n",
        "    noun = input(\"Please type a noun and press enter: \")\n",
        "    verb = input(\"Please type a verb and press enter: \")\n",
        "\n",
        "    # Output final sentence\n",
        "    print(SENTENCE_START, adjective, noun, verb + \"!\")\n",
        "\n",
        "if __name__ == '__main__':\n",
        "    main()\n"
      ],
      "metadata": {
        "id": "uAuwOk9-sLmw"
      },
      "execution_count": null,
      "outputs": []
    },
    {
      "cell_type": "code",
      "source": [],
      "metadata": {
        "id": "ka-QOft_ss1w"
      },
      "execution_count": null,
      "outputs": []
    }
  ]
}