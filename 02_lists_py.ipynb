{
  "nbformat": 4,
  "nbformat_minor": 0,
  "metadata": {
    "colab": {
      "provenance": [],
      "authorship_tag": "ABX9TyP1+ONHUJEBpFZFSMoX85UJ",
      "include_colab_link": true
    },
    "kernelspec": {
      "name": "python3",
      "display_name": "Python 3"
    },
    "language_info": {
      "name": "python"
    }
  },
  "cells": [
    {
      "cell_type": "markdown",
      "metadata": {
        "id": "view-in-github",
        "colab_type": "text"
      },
      "source": [
        "<a href=\"https://colab.research.google.com/github/MARIUAM/projects4assimets_homework/blob/main/02_lists_py.ipynb\" target=\"_parent\"><img src=\"https://colab.research.google.com/assets/colab-badge.svg\" alt=\"Open In Colab\"/></a>"
      ]
    },
    {
      "cell_type": "code",
      "execution_count": null,
      "metadata": {
        "colab": {
          "base_uri": "https://localhost:8080/"
        },
        "id": "1eFS_SlqwhY9",
        "outputId": "a9751fac-e04e-435f-9146-63e21227d685"
      },
      "outputs": [
        {
          "output_type": "stream",
          "name": "stdout",
          "text": [
            "The sum of the numbers is: 5\n"
          ]
        }
      ],
      "source": [
        "# 01_add_many_number\n",
        "\"\"\"Problem Statement\n",
        "Write a function that takes a list of numbers and returns the sum of those numbers.\n",
        "\n",
        "Starter Code\n",
        "def main():\n",
        "    print(\"Delete this line and write your code here! :)\")\n",
        "\n",
        "\n",
        "# This provided line is required at the end of\n",
        "# Python file to call the main() function.\n",
        "if __name__ == '__main__':\n",
        "    main() \"\"\"\n",
        "\n",
        "def sum_of_list (numbers):\n",
        "\n",
        "   total = 0\n",
        "   for num in numbers:\n",
        "      total += num\n",
        "      return total\n",
        "\n",
        "def main():\n",
        "    my_numbers = [5, 10, 3, 2]\n",
        "    result = sum_of_list(my_numbers)\n",
        "    print(\"The sum of the numbers is:\", result)\n",
        "\n",
        "if __name__ == '__main__':\n",
        "  main()"
      ]
    },
    {
      "cell_type": "code",
      "source": [
        "#02_double_list\n",
        "\n",
        "\n",
        "\"\"\" Problem Statement\n",
        "Write a program that doubles each element in a list of numbers. For example, if you start with this list:\n",
        "\n",
        "numbers = [1, 2, 3, 4]\n",
        "\n",
        "You should end with this list:\n",
        "\n",
        "numbers = [2, 4, 6, 8]\n",
        "\n",
        "\"\"\"\n",
        "def double_numbers(numbers):\n",
        "    doubled_numbers = []  # Create an empty list to store the doubled values\n",
        "    for number in numbers:\n",
        "        doubled_numbers.append(number * 2)  # Double and append to the new list\n",
        "    return doubled_numbers  # Return the list of doubled numbers\n",
        "\n",
        "# Example usage:\n",
        "numbers = [1, 2, 3, 4]\n",
        "doubled_list = double_numbers(numbers)\n",
        "print(doubled_list)  # Output: [2, 4, 6, 8]"
      ],
      "metadata": {
        "colab": {
          "base_uri": "https://localhost:8080/"
        },
        "id": "-ORsOvqGE406",
        "outputId": "8fb42d2d-09ab-4613-c5ad-3cddc3173f9d"
      },
      "execution_count": null,
      "outputs": [
        {
          "output_type": "stream",
          "name": "stdout",
          "text": [
            "[2, 4, 6, 8]\n"
          ]
        }
      ]
    },
    {
      "cell_type": "code",
      "source": [
        "# 03_erase_canvas\n",
        "\n",
        "\n",
        "\"\"\" Problem Statement\n",
        "Implement an 'eraser' on a canvas.\n",
        "\n",
        "The canvas consists of a grid of blue 'cells' which are drawn as rectangles on the screen. We then create an eraser rectangle which, when dragged around the canvas, sets all of the rectangles it is in contact with to white.\n",
        "\n",
        "Starter Code\n",
        "def main():\n",
        "    print(\"Delete this line and write your code here! :)\")\n",
        "\n",
        "\n",
        "# This provided line is required at the end of\n",
        "# Python file to call the main() function.\n",
        "if __name__ == '__main__':\n",
        "    main()\"\"\"\n",
        "\n",
        "\n",
        "import tkinter as tk\n",
        "\n",
        "# Function to create the grid of blue cells\n",
        "def create_grid(canvas, rows, cols, cell_size):\n",
        "    grid = []\n",
        "    for row in range(rows):\n",
        "        grid_row = []\n",
        "        for col in range(cols):\n",
        "            x1 = col * cell_size\n",
        "            y1 = row * cell_size\n",
        "            x2 = x1 + cell_size\n",
        "            y2 = y1 + cell_size\n",
        "            rect = canvas.create_rectangle(x1, y1, x2, y2, fill=\"blue\", outline=\"black\")\n",
        "            grid_row.append(rect)\n",
        "        grid.append(grid_row)\n",
        "    return grid\n",
        "\n",
        "# Function to implement the eraser effect\n",
        "def eraser_move(event, canvas, grid, cell_size, eraser_size):\n",
        "    for row in range(len(grid)):\n",
        "        for col in range(len(grid[row])):\n",
        "            x1 = col * cell_size\n",
        "            y1 = row * cell_size\n",
        "            x2 = x1 + cell_size\n",
        "            y2 = y1 + cell_size\n",
        "\n",
        "            # Check if eraser overlaps with the cell\n",
        "            if (x1 < event.x + eraser_size and x2 > event.x - eraser_size and\n",
        "                y1 < event.y + eraser_size and y2 > event.y - eraser_size):\n",
        "                canvas.itemconfig(grid[row][col], fill=\"white\")\n",
        "\n",
        "# Main function\n",
        "def main():\n",
        "    window = tk.Tk()\n",
        "    window.title(\"Canvas Eraser\")\n",
        "\n",
        "    # Settings\n",
        "    canvas_width = 500\n",
        "    canvas_height = 500\n",
        "    cell_size = 50\n",
        "    eraser_size = 25\n",
        "\n",
        "    canvas = tk.Canvas(window, width=canvas_width, height=canvas_height)\n",
        "    canvas.pack()\n",
        "\n",
        "    rows = canvas_height // cell_size\n",
        "    cols = canvas_width // cell_size\n",
        "    grid = create_grid(canvas, rows, cols, cell_size)\n",
        "\n",
        "    # Mouse movement triggers eraser\n",
        "    canvas.bind(\"<B1-Motion>\", lambda event: eraser_move(event, canvas, grid, cell_size, eraser_size))\n",
        "\n",
        "    window.mainloop()\n",
        "\n",
        "# Run main\n",
        "if __name__ == '__main__':\n",
        "    main()\n"
      ],
      "metadata": {
        "colab": {
          "base_uri": "https://localhost:8080/",
          "height": 321
        },
        "id": "teiZv4-OHALL",
        "outputId": "b2417520-f9a0-4244-e83a-b5d15b560056"
      },
      "execution_count": null,
      "outputs": [
        {
          "output_type": "error",
          "ename": "TclError",
          "evalue": "no display name and no $DISPLAY environment variable",
          "traceback": [
            "\u001b[0;31m---------------------------------------------------------------------------\u001b[0m",
            "\u001b[0;31mTclError\u001b[0m                                  Traceback (most recent call last)",
            "\u001b[0;32m<ipython-input-3-db06cbee6db0>\u001b[0m in \u001b[0;36m<cell line: 0>\u001b[0;34m()\u001b[0m\n\u001b[1;32m     74\u001b[0m \u001b[0;31m# Run main\u001b[0m\u001b[0;34m\u001b[0m\u001b[0;34m\u001b[0m\u001b[0m\n\u001b[1;32m     75\u001b[0m \u001b[0;32mif\u001b[0m \u001b[0m__name__\u001b[0m \u001b[0;34m==\u001b[0m \u001b[0;34m'__main__'\u001b[0m\u001b[0;34m:\u001b[0m\u001b[0;34m\u001b[0m\u001b[0;34m\u001b[0m\u001b[0m\n\u001b[0;32m---> 76\u001b[0;31m     \u001b[0mmain\u001b[0m\u001b[0;34m(\u001b[0m\u001b[0;34m)\u001b[0m\u001b[0;34m\u001b[0m\u001b[0;34m\u001b[0m\u001b[0m\n\u001b[0m",
            "\u001b[0;32m<ipython-input-3-db06cbee6db0>\u001b[0m in \u001b[0;36mmain\u001b[0;34m()\u001b[0m\n\u001b[1;32m     51\u001b[0m \u001b[0;31m# Main function\u001b[0m\u001b[0;34m\u001b[0m\u001b[0;34m\u001b[0m\u001b[0m\n\u001b[1;32m     52\u001b[0m \u001b[0;32mdef\u001b[0m \u001b[0mmain\u001b[0m\u001b[0;34m(\u001b[0m\u001b[0;34m)\u001b[0m\u001b[0;34m:\u001b[0m\u001b[0;34m\u001b[0m\u001b[0;34m\u001b[0m\u001b[0m\n\u001b[0;32m---> 53\u001b[0;31m     \u001b[0mwindow\u001b[0m \u001b[0;34m=\u001b[0m \u001b[0mtk\u001b[0m\u001b[0;34m.\u001b[0m\u001b[0mTk\u001b[0m\u001b[0;34m(\u001b[0m\u001b[0;34m)\u001b[0m\u001b[0;34m\u001b[0m\u001b[0;34m\u001b[0m\u001b[0m\n\u001b[0m\u001b[1;32m     54\u001b[0m     \u001b[0mwindow\u001b[0m\u001b[0;34m.\u001b[0m\u001b[0mtitle\u001b[0m\u001b[0;34m(\u001b[0m\u001b[0;34m\"Canvas Eraser\"\u001b[0m\u001b[0;34m)\u001b[0m\u001b[0;34m\u001b[0m\u001b[0;34m\u001b[0m\u001b[0m\n\u001b[1;32m     55\u001b[0m \u001b[0;34m\u001b[0m\u001b[0m\n",
            "\u001b[0;32m/usr/lib/python3.11/tkinter/__init__.py\u001b[0m in \u001b[0;36m__init__\u001b[0;34m(self, screenName, baseName, className, useTk, sync, use)\u001b[0m\n\u001b[1;32m   2324\u001b[0m                 \u001b[0mbaseName\u001b[0m \u001b[0;34m=\u001b[0m \u001b[0mbaseName\u001b[0m \u001b[0;34m+\u001b[0m \u001b[0mext\u001b[0m\u001b[0;34m\u001b[0m\u001b[0;34m\u001b[0m\u001b[0m\n\u001b[1;32m   2325\u001b[0m         \u001b[0minteractive\u001b[0m \u001b[0;34m=\u001b[0m \u001b[0;32mFalse\u001b[0m\u001b[0;34m\u001b[0m\u001b[0;34m\u001b[0m\u001b[0m\n\u001b[0;32m-> 2326\u001b[0;31m         \u001b[0mself\u001b[0m\u001b[0;34m.\u001b[0m\u001b[0mtk\u001b[0m \u001b[0;34m=\u001b[0m \u001b[0m_tkinter\u001b[0m\u001b[0;34m.\u001b[0m\u001b[0mcreate\u001b[0m\u001b[0;34m(\u001b[0m\u001b[0mscreenName\u001b[0m\u001b[0;34m,\u001b[0m \u001b[0mbaseName\u001b[0m\u001b[0;34m,\u001b[0m \u001b[0mclassName\u001b[0m\u001b[0;34m,\u001b[0m \u001b[0minteractive\u001b[0m\u001b[0;34m,\u001b[0m \u001b[0mwantobjects\u001b[0m\u001b[0;34m,\u001b[0m \u001b[0museTk\u001b[0m\u001b[0;34m,\u001b[0m \u001b[0msync\u001b[0m\u001b[0;34m,\u001b[0m \u001b[0muse\u001b[0m\u001b[0;34m)\u001b[0m\u001b[0;34m\u001b[0m\u001b[0;34m\u001b[0m\u001b[0m\n\u001b[0m\u001b[1;32m   2327\u001b[0m         \u001b[0;32mif\u001b[0m \u001b[0museTk\u001b[0m\u001b[0;34m:\u001b[0m\u001b[0;34m\u001b[0m\u001b[0;34m\u001b[0m\u001b[0m\n\u001b[1;32m   2328\u001b[0m             \u001b[0mself\u001b[0m\u001b[0;34m.\u001b[0m\u001b[0m_loadtk\u001b[0m\u001b[0;34m(\u001b[0m\u001b[0;34m)\u001b[0m\u001b[0;34m\u001b[0m\u001b[0;34m\u001b[0m\u001b[0m\n",
            "\u001b[0;31mTclError\u001b[0m: no display name and no $DISPLAY environment variable"
          ]
        }
      ]
    },
    {
      "cell_type": "code",
      "source": [
        "import tkinter as tk\n",
        "\n",
        "# Function to create the grid of blue cells\n",
        "def create_grid(canvas, rows, cols, cell_size):\n",
        "    grid = []\n",
        "    for row in range(rows):\n",
        "        grid_row = []\n",
        "        for col in range(cols):\n",
        "            x1 = col * cell_size\n",
        "            y1 = row * cell_size\n",
        "            x2 = x1 + cell_size\n",
        "            y2 = y1 + cell_size\n",
        "            rect = canvas.create_rectangle(x1, y1, x2, y2, fill=\"blue\", outline=\"black\")\n",
        "            grid_row.append(rect)\n",
        "        grid.append(grid_row)\n",
        "    return grid\n",
        "\n",
        "# Function to implement the eraser effect\n",
        "def eraser_move(event, canvas, grid, cell_size, eraser_size):\n",
        "    for row in range(len(grid)):\n",
        "        for col in range(len(grid[row])):\n",
        "            x1 = col * cell_size\n",
        "            y1 = row * cell_size\n",
        "            x2 = x1 + cell_size\n",
        "            y2 = y1 + cell_size\n",
        "\n",
        "            # Check if eraser overlaps with the cell\n",
        "            if (x1 < event.x + eraser_size and x2 > event.x - eraser_size and\n",
        "                y1 < event.y + eraser_size and y2 > event.y - eraser_size):\n",
        "                canvas.itemconfig(grid[row][col], fill=\"white\")\n",
        "\n",
        "# Main function\n",
        "def main():\n",
        "    window = tk.Tk()\n",
        "    window.title(\"Canvas Eraser\")\n",
        "\n",
        "    # Settings\n",
        "    canvas_width = 500\n",
        "    canvas_height = 500\n",
        "    cell_size = 50\n",
        "    eraser_size = 25\n",
        "\n",
        "    canvas = tk.Canvas(window, width=canvas_width, height=canvas_height)\n",
        "    canvas.pack()\n",
        "\n",
        "    rows = canvas_height // cell_size\n",
        "    cols = canvas_width // cell_size\n",
        "    grid = create_grid(canvas, rows, cols, cell_size)\n",
        "\n",
        "    # Mouse movement triggers eraser\n",
        "    canvas.bind(\"<B1-Motion>\", lambda event: eraser_move(event, canvas, grid, cell_size, eraser_size))\n",
        "\n",
        "    window.mainloop()\n",
        "\n",
        "# Run main\n",
        "if __name__ == '__main__':\n",
        "    main()\n"
      ],
      "metadata": {
        "colab": {
          "base_uri": "https://localhost:8080/",
          "height": 321
        },
        "id": "hHvPDgNfa1yg",
        "outputId": "b64a4879-6fef-4d41-b6a4-32474f8b3aba"
      },
      "execution_count": null,
      "outputs": [
        {
          "output_type": "error",
          "ename": "TclError",
          "evalue": "no display name and no $DISPLAY environment variable",
          "traceback": [
            "\u001b[0;31m---------------------------------------------------------------------------\u001b[0m",
            "\u001b[0;31mTclError\u001b[0m                                  Traceback (most recent call last)",
            "\u001b[0;32m<ipython-input-4-7a2108d2ed90>\u001b[0m in \u001b[0;36m<cell line: 0>\u001b[0;34m()\u001b[0m\n\u001b[1;32m     55\u001b[0m \u001b[0;31m# Run main\u001b[0m\u001b[0;34m\u001b[0m\u001b[0;34m\u001b[0m\u001b[0m\n\u001b[1;32m     56\u001b[0m \u001b[0;32mif\u001b[0m \u001b[0m__name__\u001b[0m \u001b[0;34m==\u001b[0m \u001b[0;34m'__main__'\u001b[0m\u001b[0;34m:\u001b[0m\u001b[0;34m\u001b[0m\u001b[0;34m\u001b[0m\u001b[0m\n\u001b[0;32m---> 57\u001b[0;31m     \u001b[0mmain\u001b[0m\u001b[0;34m(\u001b[0m\u001b[0;34m)\u001b[0m\u001b[0;34m\u001b[0m\u001b[0;34m\u001b[0m\u001b[0m\n\u001b[0m",
            "\u001b[0;32m<ipython-input-4-7a2108d2ed90>\u001b[0m in \u001b[0;36mmain\u001b[0;34m()\u001b[0m\n\u001b[1;32m     32\u001b[0m \u001b[0;31m# Main function\u001b[0m\u001b[0;34m\u001b[0m\u001b[0;34m\u001b[0m\u001b[0m\n\u001b[1;32m     33\u001b[0m \u001b[0;32mdef\u001b[0m \u001b[0mmain\u001b[0m\u001b[0;34m(\u001b[0m\u001b[0;34m)\u001b[0m\u001b[0;34m:\u001b[0m\u001b[0;34m\u001b[0m\u001b[0;34m\u001b[0m\u001b[0m\n\u001b[0;32m---> 34\u001b[0;31m     \u001b[0mwindow\u001b[0m \u001b[0;34m=\u001b[0m \u001b[0mtk\u001b[0m\u001b[0;34m.\u001b[0m\u001b[0mTk\u001b[0m\u001b[0;34m(\u001b[0m\u001b[0;34m)\u001b[0m\u001b[0;34m\u001b[0m\u001b[0;34m\u001b[0m\u001b[0m\n\u001b[0m\u001b[1;32m     35\u001b[0m     \u001b[0mwindow\u001b[0m\u001b[0;34m.\u001b[0m\u001b[0mtitle\u001b[0m\u001b[0;34m(\u001b[0m\u001b[0;34m\"Canvas Eraser\"\u001b[0m\u001b[0;34m)\u001b[0m\u001b[0;34m\u001b[0m\u001b[0;34m\u001b[0m\u001b[0m\n\u001b[1;32m     36\u001b[0m \u001b[0;34m\u001b[0m\u001b[0m\n",
            "\u001b[0;32m/usr/lib/python3.11/tkinter/__init__.py\u001b[0m in \u001b[0;36m__init__\u001b[0;34m(self, screenName, baseName, className, useTk, sync, use)\u001b[0m\n\u001b[1;32m   2324\u001b[0m                 \u001b[0mbaseName\u001b[0m \u001b[0;34m=\u001b[0m \u001b[0mbaseName\u001b[0m \u001b[0;34m+\u001b[0m \u001b[0mext\u001b[0m\u001b[0;34m\u001b[0m\u001b[0;34m\u001b[0m\u001b[0m\n\u001b[1;32m   2325\u001b[0m         \u001b[0minteractive\u001b[0m \u001b[0;34m=\u001b[0m \u001b[0;32mFalse\u001b[0m\u001b[0;34m\u001b[0m\u001b[0;34m\u001b[0m\u001b[0m\n\u001b[0;32m-> 2326\u001b[0;31m         \u001b[0mself\u001b[0m\u001b[0;34m.\u001b[0m\u001b[0mtk\u001b[0m \u001b[0;34m=\u001b[0m \u001b[0m_tkinter\u001b[0m\u001b[0;34m.\u001b[0m\u001b[0mcreate\u001b[0m\u001b[0;34m(\u001b[0m\u001b[0mscreenName\u001b[0m\u001b[0;34m,\u001b[0m \u001b[0mbaseName\u001b[0m\u001b[0;34m,\u001b[0m \u001b[0mclassName\u001b[0m\u001b[0;34m,\u001b[0m \u001b[0minteractive\u001b[0m\u001b[0;34m,\u001b[0m \u001b[0mwantobjects\u001b[0m\u001b[0;34m,\u001b[0m \u001b[0museTk\u001b[0m\u001b[0;34m,\u001b[0m \u001b[0msync\u001b[0m\u001b[0;34m,\u001b[0m \u001b[0muse\u001b[0m\u001b[0;34m)\u001b[0m\u001b[0;34m\u001b[0m\u001b[0;34m\u001b[0m\u001b[0m\n\u001b[0m\u001b[1;32m   2327\u001b[0m         \u001b[0;32mif\u001b[0m \u001b[0museTk\u001b[0m\u001b[0;34m:\u001b[0m\u001b[0;34m\u001b[0m\u001b[0;34m\u001b[0m\u001b[0m\n\u001b[1;32m   2328\u001b[0m             \u001b[0mself\u001b[0m\u001b[0;34m.\u001b[0m\u001b[0m_loadtk\u001b[0m\u001b[0;34m(\u001b[0m\u001b[0;34m)\u001b[0m\u001b[0;34m\u001b[0m\u001b[0;34m\u001b[0m\u001b[0m\n",
            "\u001b[0;31mTclError\u001b[0m: no display name and no $DISPLAY environment variable"
          ]
        }
      ]
    },
    {
      "cell_type": "code",
      "source": [
        "!pip install pyvirtualdisplay\n"
      ],
      "metadata": {
        "colab": {
          "base_uri": "https://localhost:8080/"
        },
        "id": "TMMqg1zrblN4",
        "outputId": "263646db-5d56-4792-e2ac-95691fe0da48"
      },
      "execution_count": null,
      "outputs": [
        {
          "output_type": "stream",
          "name": "stdout",
          "text": [
            "Collecting pyvirtualdisplay\n",
            "  Downloading PyVirtualDisplay-3.0-py3-none-any.whl.metadata (943 bytes)\n",
            "Downloading PyVirtualDisplay-3.0-py3-none-any.whl (15 kB)\n",
            "Installing collected packages: pyvirtualdisplay\n",
            "Successfully installed pyvirtualdisplay-3.0\n"
          ]
        }
      ]
    },
    {
      "cell_type": "code",
      "source": [
        "# Sab se pehle virtual display start karo\n",
        "!pip install pyvirtualdisplay\n",
        "from pyvirtualdisplay import Display\n",
        "display = Display(visible=0, size=(800, 600))\n",
        "display.start()\n",
        "\n",
        "import tkinter as tk\n",
        "\n",
        "def create_grid(canvas, rows, cols, cell_size):\n",
        "    grid = []\n",
        "    for row in range(rows):\n",
        "        grid_row = []\n",
        "        for col in range(cols):\n",
        "            x1 = col * cell_size\n",
        "            y1 = row * cell_size\n",
        "            x2 = x1 + cell_size\n",
        "            y2 = y1 + cell_size\n",
        "            rect = canvas.create_rectangle(x1, y1, x2, y2, fill=\"blue\", outline=\"black\")\n",
        "            grid_row.append(rect)\n",
        "        grid.append(grid_row)\n",
        "    return grid\n",
        "\n",
        "def eraser_move(event, canvas, grid, cell_size, eraser_size):\n",
        "    for row in range(len(grid)):\n",
        "        for col in range(len(grid[row])):\n",
        "            x1 = col * cell_size\n",
        "            y1 = row * cell_size\n",
        "            x2 = x1 + cell_size\n",
        "            y2 = y1 + cell_size\n",
        "\n",
        "            if (x1 < event.x + eraser_size and x2 > event.x - eraser_size and\n",
        "                y1 < event.y + eraser_size and y2 > event.y - eraser_size):\n",
        "                canvas.itemconfig(grid[row][col], fill=\"white\")\n",
        "\n",
        "def main():\n",
        "    window = tk.Tk()\n",
        "    window.title(\"Canvas Eraser\")\n",
        "\n",
        "    canvas_width = 500\n",
        "    canvas_height = 500\n",
        "    cell_size = 50\n",
        "    eraser_size = 60\n",
        "\n",
        "    canvas = tk.Canvas(window, width=canvas_width, height=canvas_height)\n",
        "    canvas.pack()\n",
        "\n",
        "    rows = canvas_height // cell_size\n",
        "    cols = canvas_width // cell_size\n",
        "    grid = create_grid(canvas, rows, cols, cell_size)\n",
        "\n",
        "    canvas.bind(\"<B1-Motion>\", lambda event: eraser_move(event, canvas, grid, cell_size, eraser_size))\n",
        "    window.mainloop()\n",
        "\n",
        "if __name__ == '__main__':\n",
        "    main()\n",
        "\n"
      ],
      "metadata": {
        "colab": {
          "base_uri": "https://localhost:8080/"
        },
        "id": "Nsy4DNXMbpKO",
        "outputId": "bffca995-25c9-4c8f-a08b-049410806566"
      },
      "execution_count": null,
      "outputs": [
        {
          "output_type": "stream",
          "name": "stdout",
          "text": [
            "Requirement already satisfied: pyvirtualdisplay in /usr/local/lib/python3.11/dist-packages (3.0)\n"
          ]
        }
      ]
    },
    {
      "cell_type": "code",
      "source": [
        "# Sab se pehle virtual display start karo\n",
        "!pip install pyvirtualdisplay\n",
        "from pyvirtualdisplay import Display\n",
        "display = Display(visible=0, size=(800, 600))\n",
        "display.start()\n",
        "\n",
        "import tkinter as tk\n",
        "\n",
        "def create_grid(canvas, rows, cols, cell_size):\n",
        "    grid = []\n",
        "    for row in range(rows):\n",
        "        grid_row = []\n",
        "        for col in range(cols):\n",
        "            x1 = col * cell_size\n",
        "            y1 = row * cell_size\n",
        "            x2 = x1 + cell_size\n",
        "            y2 = y1 + cell_size\n",
        "            rect = canvas.create_rectangle(x1, y1, x2, y2, fill=\"blue\", outline=\"black\")\n",
        "            grid_row.append(rect)\n",
        "        grid.append(grid_row)\n",
        "    return grid\n",
        "\n",
        "def eraser_move(event, canvas, grid, cell_size, eraser_size):\n",
        "    for row in range(len(grid)):\n",
        "        for col in range(len(grid[row])):\n",
        "            x1 = col * cell_size\n",
        "            y1 = row * cell_size\n",
        "            x2 = x1 + cell_size\n",
        "            y2 = y1 + cell_size\n",
        "\n",
        "            if (x1 < event.x + eraser_size and x2 > event.x - eraser_size and\n",
        "                y1 < event.y + eraser_size and y2 > event.y - eraser_size):\n",
        "                canvas.itemconfig(grid[row][col], fill=\"white\")\n",
        "\n",
        "def main():\n",
        "    window = tk.Tk()\n",
        "    window.title(\"Canvas Eraser\")\n",
        "\n",
        "    canvas_width = 500\n",
        "    canvas_height = 500\n",
        "    cell_size = 50\n",
        "    eraser_size = 60\n",
        "\n",
        "    canvas = tk.Canvas(window, width=canvas_width, height=canvas_height)\n",
        "    canvas.pack()\n",
        "\n",
        "    rows = canvas_height // cell_size\n",
        "    cols = canvas_width // cell_size\n",
        "    grid = create_grid(canvas, rows, cols, cell_size)\n",
        "\n",
        "    canvas.bind(\"<B1-Motion>\", lambda event: eraser_move(event, canvas, grid, cell_size, eraser_size))\n",
        "    window.mainloop()\n",
        "\n",
        "if __name__ == '__main__':\n",
        "    main()\n"
      ],
      "metadata": {
        "colab": {
          "base_uri": "https://localhost:8080/"
        },
        "id": "GO0ESWl1cJDH",
        "outputId": "17bd8e4b-ec67-47ad-8215-1ea0a9ffc212"
      },
      "execution_count": null,
      "outputs": [
        {
          "output_type": "stream",
          "name": "stdout",
          "text": [
            "Requirement already satisfied: pyvirtualdisplay in /usr/local/lib/python3.11/dist-packages (3.0)\n"
          ]
        }
      ]
    },
    {
      "cell_type": "code",
      "source": [
        "# 04_flowing_with_data_structures\n",
        "\n",
        "\"\"\"Problem Statement\n",
        "In the information flow lesson, we discussed using a variable storing a number as an example of scope. We saw that changes we made to the number inside a function did not stay unless we returned it. This is true for what we call immutable data types which include things like numbers and strings.\n",
        "\n",
        "However, there are also mutable data types where changes stay even if we don't return anything. Some examples of mutable data types are lists and dictionaries. This means that you should be mindful when modifying lists and dictionaries within helper functions since their changes stay whether or not you return them.\n",
        "\n",
        "To see this in action, fill out the add_three_copies(...) function which takes a list and some data and then adds three copies of the data to the list. Don't return anything and see what happens! Compare this process to the x = change(x) example and note the differences.\n",
        "\n",
        "Here is an example run of this program (user input in bold italics):\n",
        "\n",
        "Enter a message to copy: Hello world!\n",
        "\n",
        "List before: []\n",
        "\n",
        "List after: ['Hello world!', 'Hello world!', 'Hello world!']\n",
        "\n",
        "(Note. The concept of immutable/mutable data types is called mutability. Be careful because different programming languages have different rules regarding mutability!) \"\"\"\n",
        "\n",
        "\n",
        "\n",
        "def add_three_copies(lst, data):\n",
        "    lst.append(data)\n",
        "    lst.append(data)\n",
        "    lst.append(data)\n",
        "\n",
        "def main():\n",
        "    message = input(\"Enter a message to copy: \")\n",
        "    my_list = []\n",
        "\n",
        "    print(\"List before:\", my_list)\n",
        "    add_three_copies(my_list, message)\n",
        "    print(\"List after:\", my_list)\n",
        "\n",
        "if __name__ == '__main__':\n",
        "    main()\n"
      ],
      "metadata": {
        "colab": {
          "base_uri": "https://localhost:8080/"
        },
        "id": "xLW8gK-Bo-n0",
        "outputId": "bd51f26e-1cfd-40d2-bbc3-c1669a2c0a9c"
      },
      "execution_count": null,
      "outputs": [
        {
          "output_type": "stream",
          "name": "stdout",
          "text": [
            "Enter a message to copy: maryam\n",
            "List before: []\n",
            "List after: ['maryam', 'maryam', 'maryam']\n"
          ]
        }
      ]
    },
    {
      "cell_type": "code",
      "source": [
        "# 05_get_first_element\n",
        "\n",
        "\"\"\" Problem Statement\n",
        "Fill out the function get_first_element(lst) which takes in a list lst as a parameter and prints the first element in the list. The list is guaranteed to be non-empty. We've written some code for you which prompts the user to input the list one element at a time.\n",
        "\n",
        "Starter Code\n",
        "def main():\n",
        "    print(\"Delete this line and write your code here! :)\")\n",
        "\n",
        "\n",
        "# This provided line is required at the end of\n",
        "# Python file to call the main() function.\n",
        "if __name__ == '__main__':\n",
        "    main()\"\"\"\n",
        "\n",
        "\n",
        "def get_first_element(lst):\n",
        "    # Prints the first element of the list\n",
        "    print(lst[0])\n",
        "\n",
        "def main():\n",
        "    # Get the number of elements the user wants to enter in the list\n",
        "    n = int(input(\"Enter the number of elements in the list: \"))\n",
        "\n",
        "    # Initialize an empty list to store user inputs\n",
        "    user_list = []\n",
        "\n",
        "    # Prompt the user to input each element and add it to the list\n",
        "    for _ in range(n):\n",
        "        element = input(\"Enter an element: \")\n",
        "        user_list.append(element)  # Add each input to the list\n",
        "\n",
        "    # Call the get_first_element function to print the first element of the list\n",
        "    get_first_element(user_list)\n",
        "\n",
        "# This provided line is required at the end of the Python file to call the main() function.\n",
        "if __name__ == '__main__':\n",
        "    main()\n",
        "\n"
      ],
      "metadata": {
        "colab": {
          "base_uri": "https://localhost:8080/"
        },
        "id": "ySj3WeWLswac",
        "outputId": "64845225-82e3-41c9-f011-c3727b719e5f"
      },
      "execution_count": null,
      "outputs": [
        {
          "output_type": "stream",
          "name": "stdout",
          "text": [
            "Enter the number of elements in the list: 3\n",
            "Enter an element: copy\n",
            "Enter an element: pencil\n",
            "Enter an element: eraser\n",
            "copy\n"
          ]
        }
      ]
    },
    {
      "cell_type": "code",
      "source": [
        "# 06_get_last_element\n",
        "\n",
        "\"\"\"Problem Statement\n",
        "Fill out the function get_last_element(lst) which takes in a list lst as a parameter and prints the last element in the list. The list is guaranteed to be non-empty, but there are no guarantees on its length.\n",
        "\n",
        "Starter Code\n",
        "def main():\n",
        "    print(\"Delete this line and write your code here! :)\")\n",
        "\n",
        "\n",
        "# This provided line is required at the end of\n",
        "# Python file to call the main() function.\n",
        "if __name__ == '__main__':\n",
        "    main() \"\"\"\n",
        "\n",
        "\n",
        "def get_last_element(lst):\n",
        "    # Print the last element of the list\n",
        "    print(lst[-1])\n",
        "\n",
        "def main():\n",
        "    # You can hard-code a sample list or ask the user for input\n",
        "    my_list = [1, 2, 3, 4, 5]  # Example list\n",
        "\n",
        "    # Call the function and print the last element\n",
        "    get_last_element(my_list)\n",
        "\n",
        "# This provided line is required at the end of the Python file to call the main() function.\n",
        "if __name__ == '__main__':\n",
        "    main()\n"
      ],
      "metadata": {
        "colab": {
          "base_uri": "https://localhost:8080/"
        },
        "id": "ihrSOR58uU6d",
        "outputId": "d3522916-5c66-40b2-caa9-a69312168dfd"
      },
      "execution_count": null,
      "outputs": [
        {
          "output_type": "stream",
          "name": "stdout",
          "text": [
            "5\n"
          ]
        }
      ]
    },
    {
      "cell_type": "code",
      "source": [
        "# 07_get_list\n",
        "\n",
        "\"\"\"Problem Statement\n",
        "Write a program which continuously asks the user to enter values which are added one by one into a list. When the user presses enter without typing anything, print the list.\n",
        "\n",
        "Here's a sample run (user input is in blue):\n",
        "\n",
        "Enter a value: 1 Enter a value: 2 Enter a value: 3 Enter a value: Here's the list: ['1', '2', '3']\n",
        "\n",
        "Starter Code\n",
        "def main():\n",
        "    print(\"Delete this line and write your code here! :)\")\n",
        "\n",
        "\n",
        "# This provided line is required at the end of\n",
        "# Python file to call the main() function.\n",
        "if __name__ == '__main__':\n",
        "    main() \"\"\"\n",
        "\n",
        "\n",
        "def main():\n",
        "    user_list = []  # Initialize an empty list\n",
        "\n",
        "    while True:\n",
        "        value = input(\"Enter a value: \")  # Prompt user for input\n",
        "        if value == \"\":  # If user presses Enter without typing anything\n",
        "            break  # Exit the loop\n",
        "        user_list.append(value)  # Add value to the list\n",
        "\n",
        "    print(\"Here's the list:\", user_list)  # Print the final list\n",
        "\n",
        "# This provided line is required at the end of\n",
        "# Python file to call the main() function.\n",
        "if __name__ == '__main__':\n",
        "    main()\n",
        "\n",
        "\n"
      ],
      "metadata": {
        "colab": {
          "base_uri": "https://localhost:8080/"
        },
        "id": "6Nlh5Mr7vAZF",
        "outputId": "5f8bc3c7-cebd-4eeb-8ee8-75c51b1cbc96"
      },
      "execution_count": null,
      "outputs": [
        {
          "output_type": "stream",
          "name": "stdout",
          "text": [
            "Enter a value: ok\n",
            "Enter a value: yes\n",
            "Enter a value: my\n",
            "Enter a value: name\n",
            "Enter a value: is\n",
            "Enter a value: maryam\n",
            "Enter a value: \n",
            "Here's the list: ['ok', 'yes', 'my', 'name', 'is', 'maryam']\n"
          ]
        }
      ]
    },
    {
      "cell_type": "code",
      "source": [
        "#08_shorten\n",
        "\n",
        "\"\"\"Problem Statement\n",
        "Fill out the function shorten(lst) which removes elements from the end of lst, which is a list, and prints each item it removes until lst is MAX_LENGTH items long. If lst is already shorter than MAX_LENGTH you should leave it unchanged. We've written a main() function for you which gets a list and passes it into your function once you run the program. For the autograder to pass you will need MAX_LENGTH to be 3, but feel free to change it around to test your program.\n",
        "\n",
        "Starter Code\n",
        "def main():\n",
        "    print(\"Delete this line and write your code here! :)\")\n",
        "\n",
        "\n",
        "# This provided line is required at the end of\n",
        "# Python file to call the main() function.\n",
        "if __name__ == '__main__':\n",
        "    main() \"\"\"\n",
        "\n",
        "\n",
        "\n",
        "MAX_LENGTH = 3  # Set the maximum allowed length of the list\n",
        "\n",
        "def shorten(lst):\n",
        "    # Only shorten if the list is longer than MAX_LENGTH\n",
        "    while len(lst) > MAX_LENGTH:\n",
        "        removed_item = lst.pop()  # Remove the last item from the list\n",
        "        print(removed_item)  # Print the item that was removed\n",
        "\n",
        "def main():\n",
        "    lst = input(\"Enter a list (comma separated values): \").split(',')  # Get input and split into list\n",
        "    lst = [item.strip() for item in lst]  # Remove leading/trailing spaces from each item\n",
        "    shorten(lst)  # Call shorten function on the list\n",
        "\n",
        "# This provided line is required at the end of\n",
        "# Python file to call the main() function.\n",
        "if __name__ == '__main__':\n",
        "    main()\n",
        "\n",
        "\n",
        "\n"
      ],
      "metadata": {
        "colab": {
          "base_uri": "https://localhost:8080/"
        },
        "id": "sa1CR5r6w6hV",
        "outputId": "ad01c609-26fe-48ba-c490-7a8a6e50cc4b"
      },
      "execution_count": null,
      "outputs": [
        {
          "output_type": "stream",
          "name": "stdout",
          "text": [
            "Enter a list (comma separated values): [1,2,3,4,5]\n",
            "5]\n",
            "4\n"
          ]
        }
      ]
    }
  ]
}