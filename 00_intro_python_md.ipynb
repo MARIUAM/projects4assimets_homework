{
  "nbformat": 4,
  "nbformat_minor": 0,
  "metadata": {
    "colab": {
      "provenance": [],
      "authorship_tag": "ABX9TyPbq0qigL2Bt+AcZ2QlmAEr",
      "include_colab_link": true
    },
    "kernelspec": {
      "name": "python3",
      "display_name": "Python 3"
    },
    "language_info": {
      "name": "python"
    }
  },
  "cells": [
    {
      "cell_type": "markdown",
      "metadata": {
        "id": "view-in-github",
        "colab_type": "text"
      },
      "source": [
        "<a href=\"https://colab.research.google.com/github/MARIUAM/projects4assimets_homework/blob/main/00_intro_python_md.ipynb\" target=\"_parent\"><img src=\"https://colab.research.google.com/assets/colab-badge.svg\" alt=\"Open In Colab\"/></a>"
      ]
    },
    {
      "cell_type": "code",
      "execution_count": null,
      "metadata": {
        "colab": {
          "base_uri": "https://localhost:8080/"
        },
        "id": "BmpjzjK2LueQ",
        "outputId": "9b0a9348-d775-41f8-9f0e-cb18a838c129"
      },
      "outputs": [
        {
          "output_type": "stream",
          "name": "stdout",
          "text": [
            "Enter the first number: 2\n",
            "Enter the second number: 2\n",
            "The sum of 2 and 2 is: 4\n"
          ]
        }
      ],
      "source": [
        "# 01_add_two_numbers\n",
        "\"\"\"Problem Statement\n",
        "Write a Python program that takes two integer inputs from the user and calculates their sum. The program should perform the following tasks:\n",
        "\n",
        "Prompt the user to enter the first number.\n",
        "\n",
        "Read the input and convert it to an integer.\n",
        "\n",
        "Prompt the user to enter the second number.\n",
        "\n",
        "Read the input and convert it to an integer.\n",
        "\n",
        "Calculate the sum of the two numbers.\n",
        "\n",
        "Print the total sum with an appropriate message.\n",
        "\n",
        "The provided solution demonstrates a working implementation of this problem, where the main() function guides the user through the process of entering two numbers and displays their sum. \"\"\"\n",
        "\n",
        "# solution\n",
        "\n",
        "def main():\n",
        "    # Step 1: Ask user for the first number\n",
        "    first_number = int(input(\"Enter the first number: \"))\n",
        "\n",
        "    # Step 2: Ask user for the second number\n",
        "    second_number = int(input(\"Enter the second number: \"))\n",
        "\n",
        "    # Step 3: Calculate the sum\n",
        "    total_sum = first_number + second_number\n",
        "\n",
        "    # Step 4: Show the result\n",
        "    print(\"The sum of\", first_number, \"and\", second_number, \"is:\", total_sum)\n",
        "\n",
        "# Call the main function to run the program\n",
        "main()\n"
      ]
    },
    {
      "cell_type": "code",
      "source": [
        "# 02_agreement_bot.md\n",
        "\"\"\"Problem Statement\n",
        "Write a program which asks the user what their favorite animal is, and then always responds with \"My favorite animal is also ___!\" (the blank should be filled in with the user-inputted animal, of course).\n",
        "\n",
        "Here's a sample run of the program (user input is in bold italics - note the space between the prompt and the user input!):\n",
        "\n",
        "What's your favorite animal? cow\n",
        "\n",
        "My favorite animal is also cow! \"\"\"\n",
        "\n",
        "# solution\n",
        "\n",
        "animal = input(\"What's your favorite animal? \")\n",
        "print(\"My favorite animal is also\", animal + \"!\")"
      ],
      "metadata": {
        "colab": {
          "base_uri": "https://localhost:8080/"
        },
        "id": "JJb16PX6N2Rh",
        "outputId": "60c1918d-78da-4f93-f2c2-bc6914688dd5"
      },
      "execution_count": null,
      "outputs": [
        {
          "output_type": "stream",
          "name": "stdout",
          "text": [
            "What's your favorite animal? loin\n",
            "My favorite animal is also loin!\n"
          ]
        }
      ]
    },
    {
      "cell_type": "code",
      "source": [
        "# 03_fahrenheit_to_celsius\n",
        "\n",
        "\"\"\" Problem Statement\n",
        "Write a program which prompts the user for a temperature in Fahrenheit (this can be a number with decimal places!) and outputs the temperature converted to Celsius.\n",
        "\n",
        "The Celsius scale is widely used to measure temperature, but places still use Fahrenheit. Fahrenheit is another unit for temperature, but the scale is different from Celsius -- for example, 0 degrees Celsius is 32 degrees Fahrenheit!\n",
        "\n",
        "The equation you should use for converting from Fahrenheit to Celsius is the following:\n",
        "\n",
        "degrees_celsius = (degrees_fahrenheit - 32) * 5.0/9.0\n",
        "\n",
        "(Note. The .0 after the 5 and 9 matters in the line above!!!)\n",
        "\n",
        "Here's a sample run of the program (user input is in bold italics):\n",
        "\n",
        "Enter temperature in Fahrenheit: 76\n",
        "\n",
        "Temperature: 76.0F = 24.444444444444443C\"\"\"\n",
        "\n",
        "# answer\n",
        "\n",
        "temperature_fahrenheit = float (input(\"enter temperature in  fahrenheit:\"))\n",
        "tempreture_celsious = (temperature_fahrenheit - 32) * 5.0/9.0\n",
        "print(\"Temperature:\", temperature_fahrenheit, \"F =\", tempreture_celsious, \"C\")"
      ],
      "metadata": {
        "colab": {
          "base_uri": "https://localhost:8080/"
        },
        "id": "DL2z-IrtPf56",
        "outputId": "a9ad255f-7f04-4537-f4d5-70d54b494a06"
      },
      "execution_count": null,
      "outputs": [
        {
          "output_type": "stream",
          "name": "stdout",
          "text": [
            "enter temperature in  fahrenheit:0\n",
            "Temperature: 0.0 F = -17.77777777777778 C\n"
          ]
        }
      ]
    },
    {
      "cell_type": "code",
      "source": [
        "# 04_how_old_are_they\n",
        "\"\"\"Problem Statement\n",
        "Write a program to solve this age-related riddle!\n",
        "\n",
        "Anton, Beth, Chen, Drew, and Ethan are all friends. Their ages are as follows:\n",
        "\n",
        "Anton is 21 years old.\n",
        "\n",
        "Beth is 6 years older than Anton.\n",
        "\n",
        "Chen is 20 years older than Beth.\n",
        "\n",
        "Drew is as old as Chen's age plus Anton's age.\n",
        "\n",
        "Ethan is the same age as Chen.\n",
        "\n",
        "Your code should store each person's age to a variable and print their names and ages at the end. The autograder is sensitive to capitalization and punctuation, be careful! Your solution should look like this (the below numbers are made up -- your solution should have the correct values!): \"\"\"\n",
        "\n",
        "# Answer\n",
        "\n",
        "# Step 1: Store Anton's age\n",
        "anton_age = 21\n",
        "\n",
        "# Step 2: Store Beth's age\n",
        "beth_age = anton_age + 6\n",
        "\n",
        "# Step 3: Store Chen's age\n",
        "chen_age = beth_age + 20\n",
        "\n",
        "# Step 4: Store Drew's age\n",
        "drew_age = chen_age + anton_age\n",
        "\n",
        "# Step 5: Store Ethan's age (same as Chen's age)\n",
        "ethan_age = chen_age\n",
        "\n",
        "# Print the names and ages\n",
        "print(\"Anton is\", anton_age, \"years old.\")\n",
        "print(\"Beth is\", beth_age, \"years old.\")\n",
        "print(\"Chen is\", chen_age, \"years old.\")\n",
        "print(\"Drew is\", drew_age, \"years old.\")\n",
        "print(\"Ethan is\", ethan_age, \"years old.\")\n",
        "\n",
        "\n"
      ],
      "metadata": {
        "colab": {
          "base_uri": "https://localhost:8080/"
        },
        "id": "MdVeY3p6P1Jq",
        "outputId": "34690083-0a2c-4fce-865e-4b085b459efe"
      },
      "execution_count": null,
      "outputs": [
        {
          "output_type": "stream",
          "name": "stdout",
          "text": [
            "Anton is 21 years old.\n",
            "Beth is 27 years old.\n",
            "Chen is 47 years old.\n",
            "Drew is 68 years old.\n",
            "Ethan is 47 years old.\n"
          ]
        }
      ]
    },
    {
      "cell_type": "code",
      "source": [
        "# 05_triangle_perimeter\n",
        "\n",
        "\"\"\"  Problem Statement\n",
        "Prompt the user to enter the lengths of each side of a triangle and then calculate and print the perimeter of the triangle (the sum of all of the side lengths).\n",
        "\n",
        "Here's a sample run of the program (user input is in bold italics):\n",
        "\n",
        "What is the length of side 1? 3\n",
        "\n",
        "What is the length of side 2? 4\n",
        "\n",
        "What is the length of side 3? 5.5\n",
        "\n",
        "The perimeter of the triangle is 12.5\n",
        "\n",
        "Starter Code\"\"\"\n",
        "\n",
        "\n",
        "# Step 1: Prompt the user to enter the lengths of the three sides\n",
        "side1 = float(input(\"What is the length of side 1? \"))\n",
        "side2 = float(input(\"What is the length of side 2? \"))\n",
        "side3 = float(input(\"What is the length of side 3? \"))\n",
        "\n",
        "# Step 2: Calculate the perimeter (sum of the sides)\n",
        "perimeter = side1 + side2 + side3\n",
        "\n",
        "# Step 3: Print the perimeter\n",
        "print(\"The perimeter of the triangle is\", perimeter)\n"
      ],
      "metadata": {
        "colab": {
          "base_uri": "https://localhost:8080/"
        },
        "id": "YOlWfmnMhcRK",
        "outputId": "5805c4c1-3717-4876-be5d-1c132e8c74b6"
      },
      "execution_count": null,
      "outputs": [
        {
          "output_type": "stream",
          "name": "stdout",
          "text": [
            "What is the length of side 1? 1\n",
            "What is the length of side 2? 2\n",
            "What is the length of side 3? 3\n",
            "The perimeter of the triangle is 6.0\n"
          ]
        }
      ]
    },
    {
      "cell_type": "code",
      "source": [
        "# 06_square_number\n",
        "\"\"\"Problem Statement\n",
        "Ask the user for a number and print its square (the product of the number times itself).\n",
        "\n",
        "Here's a sample run of the program (user input is in bold italics):\n",
        "\n",
        "Type a number to see its square: 4\n",
        "\n",
        "4.0 squared is 16.0 \"\"\"\n",
        "\n",
        "# answer\n",
        "# Step 1: Prompt the user for a number\n",
        "number = float(input(\"Type a number to see its square: \"))\n",
        "\n",
        "# Step 2: Calculate the square of the number\n",
        "square = number * number\n",
        "\n",
        "# Step 3: Print the square in the desired format\n",
        "print(number, \"squared is\", square)\n"
      ],
      "metadata": {
        "colab": {
          "base_uri": "https://localhost:8080/"
        },
        "id": "Pych0Kg6hzzJ",
        "outputId": "52980988-1214-48ac-8756-40a5f6d092b3"
      },
      "execution_count": null,
      "outputs": [
        {
          "output_type": "stream",
          "name": "stdout",
          "text": [
            "Type a number to see its square: 5\n",
            "5.0 squared is 25.0\n"
          ]
        }
      ]
    }
  ]
}